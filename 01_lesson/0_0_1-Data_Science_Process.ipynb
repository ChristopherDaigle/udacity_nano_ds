{
 "cells": [
  {
   "cell_type": "markdown",
   "metadata": {},
   "source": [
    "# Data Science Process\n",
    "\n",
    "## Table of Contents\n",
    "\n",
    "[1. Summary](#1)<br>\n",
    "\n",
    "[2. CRISP-DM: Cross-Industry Standard Process for Data Mining](#2)<br>\n",
    "\n",
    "> [2.1 CRISP-DM: Business Understanding](#2.1)<br>\n",
    "> [2.2. CRISP-DM: Data Understanding](#2.2)<br>\n",
    "> [2.2.1 Exercise: A Look at the Data](#2.2.1)<br>"
   ]
  },
  {
   "cell_type": "markdown",
   "metadata": {},
   "source": [
    "# <a id='2'>2. CRISP-DM: Cross-Industry Standard Process for Data Mining</a>\n",
    "\n",
    "Even when we get into the weeds of coding, try to take a step back and realize what part of the process you are in, and assure that you remember the question you are trying answer and what a solution to that question looks like.\n",
    "\n",
    "**Major Phases of CRISP-DM:**<br>\n",
    "1. [Business Understanding](#2.1)<br>\n",
    "2. [Data Understanding](#2.2)<br>\n",
    "3. Prepare Data<br>\n",
    "4. Data Modeling<br>\n",
    "5. Evaluate the Results<br>\n",
    "6. Deploy<br>"
   ]
  },
  {
   "cell_type": "markdown",
   "metadata": {},
   "source": [
    "## <a id='2.1'>2.1. CRISP-DM: Business Understanding</a>\n",
    "\n",
    "1. **Business Understanding**\n",
    "> this means understanding the problem and questions you are interested in tackling in the context of whatever domain you're working in<br>\n",
    "\n",
    "Examples include:<br>\n",
    ">* How do we acquire new customers?<br>\n",
    ">* Does a new treatment perform better than an existing treatment?<br>\n",
    ">* How can improve communication?<br>\n",
    ">* How can we improve travel?<br>\n",
    ">* How can we better retain information?<br>"
   ]
  },
  {
   "cell_type": "markdown",
   "metadata": {},
   "source": [
    "## <a id='2.2'>2.2. CRISP-DM: Data Understanding</a>\n",
    "\n",
    "2. **Data Understanding**\n",
    "> at this step, you need to gain an understanding of the data necessary to answer your question<br>\n",
    "\n",
    "You might already have data that could be used to answer the questions, or you might have to collect data to get at your questions of interest."
   ]
  },
  {
   "cell_type": "markdown",
   "metadata": {},
   "source": [
    "### <a id='2.2.1'>2.2.1: Exercise: A Look at the Data</a>\n",
    "\n",
    "In order to get a better understanding of the data we will be looking at throughout this lesson, let's take a look at some of the characteristics of the dataset.\n",
    "\n",
    "First, let's read in the data and necessary libraries."
   ]
  },
  {
   "cell_type": "code",
   "execution_count": 11,
   "metadata": {},
   "outputs": [
    {
     "data": {
      "text/html": [
       "<div>\n",
       "<style scoped>\n",
       "    .dataframe tbody tr th:only-of-type {\n",
       "        vertical-align: middle;\n",
       "    }\n",
       "\n",
       "    .dataframe tbody tr th {\n",
       "        vertical-align: top;\n",
       "    }\n",
       "\n",
       "    .dataframe thead th {\n",
       "        text-align: right;\n",
       "    }\n",
       "</style>\n",
       "<table border=\"1\" class=\"dataframe\">\n",
       "  <thead>\n",
       "    <tr style=\"text-align: right;\">\n",
       "      <th></th>\n",
       "      <th>Respondent</th>\n",
       "      <th>Professional</th>\n",
       "      <th>ProgramHobby</th>\n",
       "      <th>Country</th>\n",
       "      <th>University</th>\n",
       "      <th>EmploymentStatus</th>\n",
       "      <th>FormalEducation</th>\n",
       "      <th>MajorUndergrad</th>\n",
       "      <th>HomeRemote</th>\n",
       "      <th>CompanySize</th>\n",
       "      <th>...</th>\n",
       "      <th>StackOverflowMakeMoney</th>\n",
       "      <th>Gender</th>\n",
       "      <th>HighestEducationParents</th>\n",
       "      <th>Race</th>\n",
       "      <th>SurveyLong</th>\n",
       "      <th>QuestionsInteresting</th>\n",
       "      <th>QuestionsConfusing</th>\n",
       "      <th>InterestedAnswers</th>\n",
       "      <th>Salary</th>\n",
       "      <th>ExpectedSalary</th>\n",
       "    </tr>\n",
       "  </thead>\n",
       "  <tbody>\n",
       "    <tr>\n",
       "      <th>0</th>\n",
       "      <td>1</td>\n",
       "      <td>Student</td>\n",
       "      <td>Yes, both</td>\n",
       "      <td>United States</td>\n",
       "      <td>No</td>\n",
       "      <td>Not employed, and not looking for work</td>\n",
       "      <td>Secondary school</td>\n",
       "      <td>NaN</td>\n",
       "      <td>NaN</td>\n",
       "      <td>NaN</td>\n",
       "      <td>...</td>\n",
       "      <td>Strongly disagree</td>\n",
       "      <td>Male</td>\n",
       "      <td>High school</td>\n",
       "      <td>White or of European descent</td>\n",
       "      <td>Strongly disagree</td>\n",
       "      <td>Strongly agree</td>\n",
       "      <td>Disagree</td>\n",
       "      <td>Strongly agree</td>\n",
       "      <td>NaN</td>\n",
       "      <td>NaN</td>\n",
       "    </tr>\n",
       "    <tr>\n",
       "      <th>1</th>\n",
       "      <td>2</td>\n",
       "      <td>Student</td>\n",
       "      <td>Yes, both</td>\n",
       "      <td>United Kingdom</td>\n",
       "      <td>Yes, full-time</td>\n",
       "      <td>Employed part-time</td>\n",
       "      <td>Some college/university study without earning ...</td>\n",
       "      <td>Computer science or software engineering</td>\n",
       "      <td>More than half, but not all, the time</td>\n",
       "      <td>20 to 99 employees</td>\n",
       "      <td>...</td>\n",
       "      <td>Strongly disagree</td>\n",
       "      <td>Male</td>\n",
       "      <td>A master's degree</td>\n",
       "      <td>White or of European descent</td>\n",
       "      <td>Somewhat agree</td>\n",
       "      <td>Somewhat agree</td>\n",
       "      <td>Disagree</td>\n",
       "      <td>Strongly agree</td>\n",
       "      <td>NaN</td>\n",
       "      <td>37500.0</td>\n",
       "    </tr>\n",
       "  </tbody>\n",
       "</table>\n",
       "<p>2 rows × 154 columns</p>\n",
       "</div>"
      ],
      "text/plain": [
       "   Respondent Professional ProgramHobby         Country      University  \\\n",
       "0           1      Student    Yes, both   United States              No   \n",
       "1           2      Student    Yes, both  United Kingdom  Yes, full-time   \n",
       "\n",
       "                         EmploymentStatus  \\\n",
       "0  Not employed, and not looking for work   \n",
       "1                      Employed part-time   \n",
       "\n",
       "                                     FormalEducation  \\\n",
       "0                                   Secondary school   \n",
       "1  Some college/university study without earning ...   \n",
       "\n",
       "                             MajorUndergrad  \\\n",
       "0                                       NaN   \n",
       "1  Computer science or software engineering   \n",
       "\n",
       "                              HomeRemote         CompanySize  ...  \\\n",
       "0                                    NaN                 NaN  ...   \n",
       "1  More than half, but not all, the time  20 to 99 employees  ...   \n",
       "\n",
       "  StackOverflowMakeMoney Gender HighestEducationParents  \\\n",
       "0      Strongly disagree   Male             High school   \n",
       "1      Strongly disagree   Male       A master's degree   \n",
       "\n",
       "                           Race         SurveyLong QuestionsInteresting  \\\n",
       "0  White or of European descent  Strongly disagree       Strongly agree   \n",
       "1  White or of European descent     Somewhat agree       Somewhat agree   \n",
       "\n",
       "  QuestionsConfusing InterestedAnswers  Salary  ExpectedSalary  \n",
       "0           Disagree    Strongly agree     NaN             NaN  \n",
       "1           Disagree    Strongly agree     NaN         37500.0  \n",
       "\n",
       "[2 rows x 154 columns]"
      ]
     },
     "execution_count": 11,
     "metadata": {},
     "output_type": "execute_result"
    }
   ],
   "source": [
    "import numpy as np\n",
    "import pandas as pd\n",
    "import matplotlib.pyplot as plt\n",
    "import ALookAtTheData as t\n",
    "from IPython import display\n",
    "%matplotlib inline\n",
    "\n",
    "df = pd.read_csv('./survey_results_public.csv')\n",
    "df.head(2)"
   ]
  },
  {
   "cell_type": "markdown",
   "metadata": {},
   "source": [
    "As you work through the notebook(s) in this and future parts of this program, you will see some consistency in how to test your solutions to assure they match what we achieved!  In every environment, there is a solution file and a test file.  There will be checks for each solution built into each notebook, but if you get stuck, you may also open the solution notebook to see how we find any of the solutions.  Let's take a look at an example.\n",
    "\n",
    "### Question 1\n",
    "\n",
    "**1.** Provide the number of rows and columns in this dataset."
   ]
  },
  {
   "cell_type": "code",
   "execution_count": 12,
   "metadata": {},
   "outputs": [
    {
     "name": "stdout",
     "output_type": "stream",
     "text": [
      "Nice job there are 19102 rows in the dataset!\n",
      "Nice job there are 154 columns in the dataset!\n"
     ]
    }
   ],
   "source": [
    "num_rows = df.shape[0] #Provide the number of rows in the dataset\n",
    "num_cols = df.shape[1] #Provide the number of columns in the dataset\n",
    "\n",
    "t.check_rows_cols(num_rows, num_cols) "
   ]
  },
  {
   "cell_type": "code",
   "execution_count": 13,
   "metadata": {},
   "outputs": [
    {
     "name": "stdout",
     "output_type": "stream",
     "text": [
      "That doesn't look like what we were expecting for the number of rows.\n",
      "That doesn't look like what we were expecting for the number of columns.\n"
     ]
    }
   ],
   "source": [
    "# If we made a mistake - a different prompt will appear\n",
    "\n",
    "flipped_num_rows = df.shape[1] #Provide the number of rows in the dataset\n",
    "flipped_num_cols = df.shape[0] #Provide the number of columns in the dataset\n",
    "\n",
    "t.check_rows_cols(flipped_num_rows, flipped_num_cols)"
   ]
  },
  {
   "cell_type": "code",
   "execution_count": 14,
   "metadata": {},
   "outputs": [
    {
     "data": {
      "text/plain": [
       "\u001b[0;31mSignature:\u001b[0m \u001b[0mt\u001b[0m\u001b[0;34m.\u001b[0m\u001b[0mcheck_rows_cols\u001b[0m\u001b[0;34m(\u001b[0m\u001b[0mnum_rows\u001b[0m\u001b[0;34m,\u001b[0m \u001b[0mnum_cols\u001b[0m\u001b[0;34m)\u001b[0m\u001b[0;34m\u001b[0m\u001b[0;34m\u001b[0m\u001b[0m\n",
       "\u001b[0;31mDocstring:\u001b[0m\n",
       "INPUT:\n",
       "num_rows - int the number of rows in df\n",
       "num_cols - int the number of cols in df\n",
       "\n",
       "This function will print a statement related to whether or not you provided the correct number of rows and columns of the dataset.\n",
       "\u001b[0;31mFile:\u001b[0m      ~/Git/udacity_nano_ds/01_lesson/ALookAtTheData.py\n",
       "\u001b[0;31mType:\u001b[0m      function\n"
      ]
     },
     "metadata": {},
     "output_type": "display_data"
    }
   ],
   "source": [
    "# If you want to know more about what the test function is expecting, \n",
    "# you can read the documentation the same way as any other funtion\n",
    "\n",
    "t.check_rows_cols?"
   ]
  },
  {
   "cell_type": "markdown",
   "metadata": {},
   "source": [
    "Now that you are familiar with how to test your code - let's have you answer your first question:\n",
    "\n",
    "### Question 2\n",
    "\n",
    "**2.** Which columns had no missing values? Provide a set of column names that have no missing values."
   ]
  },
  {
   "cell_type": "code",
   "execution_count": 15,
   "metadata": {},
   "outputs": [
    {
     "name": "stdout",
     "output_type": "stream",
     "text": [
      "Nice job that looks right!\n"
     ]
    },
    {
     "data": {
      "text/html": [
       "<img src=\"https://bit.ly/2K9X0gD\">"
      ],
      "text/plain": [
       "<IPython.core.display.HTML object>"
      ]
     },
     "execution_count": 15,
     "metadata": {},
     "output_type": "execute_result"
    }
   ],
   "source": [
    "no_nulls = set(df.columns[df.isna().sum() == 0])\n",
    "\n",
    "display.HTML(t.no_null_cols(no_nulls))"
   ]
  },
  {
   "cell_type": "markdown",
   "metadata": {},
   "source": [
    "### Question 3\n",
    "\n",
    "**3.** Which columns have the most missing values?  Provide a set of column names that have more than 75% if their values missing."
   ]
  },
  {
   "cell_type": "code",
   "execution_count": 16,
   "metadata": {},
   "outputs": [
    {
     "name": "stdout",
     "output_type": "stream",
     "text": [
      "Nice job that looks right!\n"
     ]
    }
   ],
   "source": [
    "most_missing_cols = set(df.columns[df.isna().sum() / len(df) > 0.75])\n",
    "\n",
    "t.most_missing_cols(most_missing_cols)"
   ]
  },
  {
   "cell_type": "markdown",
   "metadata": {},
   "source": [
    "### Question 4\n",
    "\n",
    "**4.** Provide a pandas series of the different **Professional** status values in the dataset along with the count of the number of individuals with each status.  Store this pandas series in **status_vals**.  If you are correct, you should see a bar chart of the proportion of individuals in each status."
   ]
  },
  {
   "cell_type": "code",
   "execution_count": 46,
   "metadata": {},
   "outputs": [
    {
     "data": {
      "image/png": "[encoded data removed]",
      "text/plain": [
       "<Figure size 432x288 with 1 Axes>"
      ]
     },
     "metadata": {
      "needs_background": "light"
     },
     "output_type": "display_data"
    }
   ],
   "source": [
    "status_vals = df['Professional'].value_counts()\n",
    "\n",
    "# The below should be a bar chart of the proportion of individuals in each professional category \n",
    "# if your status_vals is set up correctly.\n",
    "\n",
    "(status_vals/df.shape[0]).plot(kind=\"bar\")\n",
    "plt.title(\"What kind of developer are you?\")\n",
    "plt.gca().set_xticklabels([col[:20] for col in status_vals.index], rotation = 65)\n",
    "plt.show()"
   ]
  },
  {
   "cell_type": "markdown",
   "metadata": {},
   "source": [
    "### Question 5\n",
    "\n",
    "**5.** Provide a pandas series of the different **FormalEducation** status values in the dataset along with the count of how many individuals received that formal education.  Store this pandas series in **ed_vals**.  If you are correct, you should see a bar chart of the proportion of individuals in each status."
   ]
  },
  {
   "cell_type": "code",
   "execution_count": 74,
   "metadata": {},
   "outputs": [
    {
     "data": {
      "image/png": "[encoded data removed]",
      "text/plain": [
       "<Figure size 432x288 with 1 Axes>"
      ]
     },
     "metadata": {
      "needs_background": "light"
     },
     "output_type": "display_data"
    }
   ],
   "source": [
    "ed_vals = df['FormalEducation'].value_counts()\n",
    "\n",
    "# The below should be a bar chart of the proportion of individuals in your ed_vals\n",
    "# if it is set up correctly.\n",
    "\n",
    "(ed_vals/df.shape[0]).plot(kind=\"bar\")\n",
    "plt.title(\"Formal Education\")\n",
    "ax.set_xticks(ticks=range(len(ed_vals.index)))\n",
    "plt.gca().set_xticklabels(\n",
    "    [col[:20] for col in ed_vals.index],\n",
    "    rotation =-65, \n",
    "    rotation_mode='anchor',fontdict={'horizontalalignment': 'left'})\n",
    "plt.tick_params(axis='x')\n",
    "# plt.xlabel(labelpad=5)\n",
    "plt.show()"
   ]
  },
  {
   "cell_type": "markdown",
   "metadata": {},
   "source": [
    "### Question 6\n",
    "\n",
    "**6.** Provide a pandas series of the different **Country** values in the dataset along with the count of how many individuals are from each country.  Store this pandas series in **count_vals**.  If you are correct, you should see a bar chart of the proportion of individuals in each country."
   ]
  },
  {
   "cell_type": "code",
   "execution_count": 75,
   "metadata": {},
   "outputs": [
    {
     "data": {
      "image/png": "[encoded data removed]",
      "text/plain": [
       "<Figure size 432x288 with 1 Axes>"
      ]
     },
     "metadata": {
      "needs_background": "light"
     },
     "output_type": "display_data"
    }
   ],
   "source": [
    "count_vals = df['Country'].value_counts()\n",
    "\n",
    "# The below should be a bar chart of the proportion of the top 10 countries for the\n",
    "# individuals in your count_vals if it is set up correctly.\n",
    "\n",
    "(count_vals[:10]/df.shape[0]).plot(kind=\"bar\")\n",
    "plt.title(\"Country\")\n",
    "ax.set_xticks(ticks=range(len(count_vals.index)))\n",
    "plt.gca().set_xticklabels(\n",
    "    [col[:20] for col in count_vals.index],\n",
    "    rotation =-65, \n",
    "    rotation_mode='anchor',fontdict={'horizontalalignment': 'left'})\n",
    "plt.tick_params(axis='x')\n",
    "# plt.xlabel(labelpad=5)\n",
    "plt.show()"
   ]
  },
  {
   "cell_type": "markdown",
   "metadata": {},
   "source": [
    "# Simplified 4-Step Process for Modeling using Scikit-Learn\n",
    "1. Instantiate Model\n",
    "> `model = Classifier()`\n",
    "2. Fit model to training data\n",
    "> `model.fit(X_train, y_train)`\n",
    "3. Predict on test data with the fitted model\n",
    "> `pred_test = model.predict(X_test)`\n",
    "4. Score the model using a metric to evaluate how well it performs\n",
    "> `fbeta_score(y_test, pred_test, beta=0.5)`"
   ]
  },
  {
   "cell_type": "markdown",
   "metadata": {},
   "source": [
    "# Working With Missing Data\n",
    "1. Remove\n",
    "> We can remove (or “drop”) the rows or columns holding the missing values\n",
    "2. Impute\n",
    "> Replace with mean, median, mode of frequency, univariate linear regression, etc.\n",
    "3. Work Around\n",
    "> We can build models that work around them, and only use the information provided\n",
    "\n",
    "Resource: [How to Handle Missing Data](https://towardsdatascience.com/how-to-handle-missing-data-8646b18db0d4)"
   ]
  },
  {
   "cell_type": "markdown",
   "metadata": {},
   "source": [
    "## Option 1: Removing\n",
    "1. Ask \"Why are the values missing\"\n",
    "> Removing data can lead to biased models\n",
    "\n",
    "Ex: If data is of survey nature, the types of questions NOT RESPONDED TO may indicate different types of respondents\n",
    "\n",
    "May be valuable to account for the number of, or which questions have, missing values for each observation:\n",
    "\n",
    "| Q1 | Q2  | Q3  | Missing |\n",
    "|----|-----|-----|---------|\n",
    "| 1  | Nan | 1   | 1       |\n",
    "| 4  | 4   | Nan | 1       |\n",
    "| 1  | 2   | 1   | 0       |\n",
    "\n",
    "### When is it ok to remove missing values?\n",
    "1. Data entry errors\n",
    "2. Mechanical errors\n",
    "3. Didn't need the data\n",
    "4. The missing data is in the column to be predicted\n",
    "5. There is no variablity in the observations\n",
    "\n",
    "### Other Considerations\n",
    "1. Drop observations\n",
    "2. Drop columns"
   ]
  },
  {
   "cell_type": "markdown",
   "metadata": {},
   "source": [
    "## Option 2: Imputing\n",
    "\n",
    "Be very cautious of the BIAS you are imputing into any model that uses these imputed values.\n",
    "\n",
    "Though imputing values is very common, and often leads to better predictive power in machine learning models, it can lead to **over generalizations**\n",
    "\n",
    "* By imputing, you are diluting the importance of that feature\n",
    "* Variablity in features is what allows you to use them to predict another variable well\n",
    "\n",
    "**Common Methods:**\n",
    "1. Mean\n",
    "2. Median\n",
    "3. Mode\n",
    "> Especially with categorical data\n",
    "4. Impute 0 or $\\infty$\n",
    "> Small or large value to differentiate missing values from the others\n",
    "\n",
    "**More advanced:**\n",
    "1. [K-Nearest Neighbors](https://faculty.marshall.usc.edu/gareth-james/ISL/ISLR%20Seventh%20Printing.pdf)\n",
    "> Impute values based on features that are most similar\n",
    "2. [AMELIA](https://cran.r-project.org/web/packages/Amelia/Amelia.pdf)\n",
    "\n",
    "**PROS OF IMPUTING**\n",
    "* You **ARE NOT** removing rows\n",
    "\n",
    "**CONS OF IMPUTING**\n",
    "* You **ARE** diluting the power of your features to predict well by reducing variability in those features\n",
    "\n",
    "Note that in the image, the pink values were missing and replaced with the mean values in the column. However, `child height` at `42` and at `57` are vastly different. Because of imputation though, these two observations are identical aside from the value to be predicted\n",
    "\n",
    "<img src='impute_0.png'>\n",
    "\n",
    "In general, you should try to be more careful with missing data in understanding the real world implications and reasons for why the missing values exist. At the same time, these solutions are very quick, and they enable you to get models off the ground. You can then iterate on your feature engineering to be more careful as time permits."
   ]
  },
  {
   "cell_type": "markdown",
   "metadata": {},
   "source": [
    "# Encoding of Categorical Variables\n",
    "**One Hot Encoding (dummy variables, indicator variables)**\n",
    "Rule of thumb:\n",
    "* for any factor to be added (p -> p+1), there should be at least 10 observations for each (i.e. if you add two factos by including dummy variables, you should have 10x the number of variables, p, the data has after including the new variables)\n",
    "\n",
    "Ex.\n",
    "* n=100, p = 3\n",
    "> currently 33 1/3 observation per-factor<br>\n",
    "* if one p has 5 categories/levels -> n=100, p = 8 (assuming no base drop, which is wrong), no issue\n",
    "> each factor now has 100 / 8 observations<br>\n",
    "* if one p has 8 categories/levels -> n=100, p = 11 (assuming no base drop, which is wrong), there may be an issues\n",
    "> each factor now has 100 / 11 observations, even if the base case is dropped, this is still a potential issue\n",
    "\n",
    "Another rule of thumb:\n",
    "* There should be at least $\\sqrt{n}$ observations for any factor\n",
    "> this leads to an equivalent amount of observations for each factor\n"
   ]
  },
  {
   "cell_type": "markdown",
   "metadata": {},
   "source": [
    "# Overfitting\n",
    "* When we are able to build a model that performs well on data it has seen before, but does not predict well in new situations"
   ]
  },
  {
   "cell_type": "code",
   "execution_count": null,
   "metadata": {},
   "outputs": [],
   "source": []
  }
 ],
 "metadata": {
  "kernelspec": {
   "display_name": "Python 3",
   "language": "python",
   "name": "python3"
  },
  "language_info": {
   "codemirror_mode": {
    "name": "ipython",
    "version": 3
   },
   "file_extension": ".py",
   "mimetype": "text/x-python",
   "name": "python",
   "nbconvert_exporter": "python",
   "pygments_lexer": "ipython3",
   "version": "3.7.6"
  }
 },
 "nbformat": 4,
 "nbformat_minor": 4
}
