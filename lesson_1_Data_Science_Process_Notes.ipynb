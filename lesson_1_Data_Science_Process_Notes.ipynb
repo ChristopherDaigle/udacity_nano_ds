{
 "cells": [
  {
   "cell_type": "markdown",
   "metadata": {},
   "source": [
    "# Simplified 4-Step Process for Modeling using Scikit-Learn\n",
    "1. Instantiate Model\n",
    "> `model = Classifier()`\n",
    "2. Fit model to training data\n",
    "> `model.fit(X_train, y_train)`\n",
    "3. Predict on test data with the fitted model\n",
    "> `pred_test = model.predict(X_test)`\n",
    "4. Score the model using a metric to evaluate how well it performs\n",
    "> `fbeta_score(y_test, pred_test, beta=0.5)`"
   ]
  },
  {
   "cell_type": "markdown",
   "metadata": {},
   "source": [
    "# Working With Missing Data\n",
    "1. Remove\n",
    "> We can remove (or “drop”) the rows or columns holding the missing values\n",
    "2. Impute\n",
    "> Replace with mean, median, mode of frequency, univariate linear regression, etc.\n",
    "3. Work Around\n",
    "> We can build models that work around them, and only use the information provided\n",
    "\n",
    "Resource: [How to Handle Missing Data](https://towardsdatascience.com/how-to-handle-missing-data-8646b18db0d4)"
   ]
  },
  {
   "cell_type": "markdown",
   "metadata": {},
   "source": [
    "## Option 1: Removing\n",
    "1. Ask \"Why are the values missing\"\n",
    "> Removing data can lead to biased models\n",
    "\n",
    "Ex: If data is of survey nature, the types of questions NOT RESPONDED TO may indicate different types of respondents\n",
    "\n",
    "May be valuable to account for the number of, or which questions have, missing values for each observation:\n",
    "\n",
    "| Q1 | Q2  | Q3  | Missing |\n",
    "|----|-----|-----|---------|\n",
    "| 1  | Nan | 1   | 1       |\n",
    "| 4  | 4   | Nan | 1       |\n",
    "| 1  | 2   | 1   | 0       |\n",
    "\n",
    "### When is it ok to remove missing values?\n",
    "1. Data entry errors\n",
    "2. Mechanical errors\n",
    "3. Didn't need the data\n",
    "4. The missing data is in the column to be predicted\n",
    "5. There is no variablity in the observations\n",
    "\n",
    "### Other Considerations\n",
    "1. Drop observations\n",
    "2. Drop columns"
   ]
  },
  {
   "cell_type": "code",
   "execution_count": null,
   "metadata": {},
   "outputs": [],
   "source": []
  }
 ],
 "metadata": {
  "kernelspec": {
   "display_name": "Python 3",
   "language": "python",
   "name": "python3"
  },
  "language_info": {
   "codemirror_mode": {
    "name": "ipython",
    "version": 3
   },
   "file_extension": ".py",
   "mimetype": "text/x-python",
   "name": "python",
   "nbconvert_exporter": "python",
   "pygments_lexer": "ipython3",
   "version": "3.7.6"
  }
 },
 "nbformat": 4,
 "nbformat_minor": 4
}
