{
 "cells": [
  {
   "cell_type": "markdown",
   "metadata": {},
   "source": [
    "# Software Engineering Practices\n",
    "1. Testing\n",
    "2. Logging\n",
    "3. Code reviews"
   ]
  },
  {
   "cell_type": "markdown",
   "metadata": {},
   "source": [
    "## Testing\n",
    "Testing your code is essential before deployment. It helps you catch errors and faulty conclusions before they make any major impact. Today, employers are looking for data scientists with the skills to properly prepare their code for an industry setting, which includes testing their code.\n",
    "\n",
    "### Testing And Data Science\n",
    "* Problems that could occur in data science aren’t always easily detectable; you might have values being encoded incorrectly, features being used inappropriately, unexpected data breaking assumptions<br>\n",
    "* To catch these errors, you have to check for the quality and accuracy of your analysis in addition to the quality of your code. Proper testing is necessary to avoid unexpected surprises and have confidence in your results.\n",
    "* **TEST DRIVEN DEVELOPMENT:** a development process where you write tests for tasks before you even write the code to implement those tasks.<br>\n",
    "* **UNIT TEST:** a type of test that covers a “unit” of code, usually a single function, independently from the rest of the program.\n",
    "\n",
    "**Resources:**\n",
    "- Four Ways Data Science Goes Wrong and How Test Driven Data Analysis Can Help: [Blog Post](https://www.predictiveanalyticsworld.com/patimes/four-ways-data-science-goes-wrong-and-how-test-driven-data-analysis-can-help/6947/)<br>\n",
    "- Ned Batchelder: Getting Started Testing: [Slide Deck](https://speakerdeck.com/pycon2014/getting-started-testing-by-ned-batchelder) and [Presentation Video](https://www.youtube.com/watch?v=FxSsnHeWQBY)"
   ]
  },
  {
   "cell_type": "markdown",
   "metadata": {},
   "source": [
    "## Testing: Unit Test\n",
    "\n",
    "We want to test our functions in a way that is repeatable and automated. Ideally, we'd run a test program that runs all our unit tests and cleanly lets us know which ones failed and which ones succeeded. Fortunately, there are great tools available in Python that we can use to create effective unit tests!\n",
    "\n",
    "```python\n",
    "def add_something(x,y):\n",
    "    return x+y\n",
    "\n",
    "assert(add_something(4,7) == 11)\n",
    "```\n",
    "\n",
    "### Unit Test Advantages and Disadvantages\n",
    "The advantage of unit tests is that they are isolated from the rest of your program, and thus, no dependencies are involved. They don't require access to databases, APIs, or other external sources of information. However, passing unit tests isn’t always enough to prove that our program is working successfully. To show that all the parts of our program work with each other properly, communicating and transferring data between them correctly, we use integration tests. In this lesson, we'll focus on unit tests; however, when you start building larger programs, you will want to use integration tests as well.\n",
    "\n",
    "You can read about integration testing and how integration tests relate to unit tests [here](https://www.fullstackpython.com/integration-testing.html). That article contains other very useful links as well."
   ]
  },
  {
   "cell_type": "markdown",
   "metadata": {},
   "source": [
    "## Testing - Unit Testing Tools\n",
    "To install `pytest`, run `pip install -U pytest` in your terminal. You can see more information on getting started [here](https://docs.pytest.org/en/latest/getting-started.html).\n",
    "\n",
    "* Create a test file starting with `test_`<br>\n",
    "* Define unit test functions that start with `test_` inside the test file<br>\n",
    "* Enter `pytest` into your terminal in the directory of your test file and it will detect these tests for you!\n",
    "\n",
    "`test_` is the default - if you wish to change this, you can learn how to in this `pytest` [configuration](https://docs.pytest.org/en/latest/customize.html)\n",
    "\n",
    "In the test output, periods represent successful unit tests and F's represent failed unit tests. Since all you see is what test functions failed, it's wise to have only one `assert` statement per test. Otherwise, you wouldn't know exactly how many tests failed, and which tests failed.\n",
    "\n",
    "Your tests won't be stopped by failed `assert` statements, but it will stop if you have syntax errors.\n",
    "\n",
    "```python\n",
    "def add_something(x, y):\n",
    "    return x+y\n",
    "\n",
    "def test_add_something_11():\n",
    "    assert(add_something(4, 7) == 11)\n",
    "\n",
    "#!pytest\n",
    "```"
   ]
  },
  {
   "cell_type": "code",
   "execution_count": null,
   "metadata": {},
   "outputs": [],
   "source": []
  }
 ],
 "metadata": {
  "kernelspec": {
   "display_name": "Python 3",
   "language": "python",
   "name": "python3"
  },
  "language_info": {
   "codemirror_mode": {
    "name": "ipython",
    "version": 3
   },
   "file_extension": ".py",
   "mimetype": "text/x-python",
   "name": "python",
   "nbconvert_exporter": "python",
   "pygments_lexer": "ipython3",
   "version": "3.7.6"
  }
 },
 "nbformat": 4,
 "nbformat_minor": 4
}
