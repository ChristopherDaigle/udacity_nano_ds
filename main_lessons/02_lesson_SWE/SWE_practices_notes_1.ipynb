{
 "cells": [
  {
   "cell_type": "markdown",
   "metadata": {},
   "source": [
    "# Software Engineering Practices\n",
    "1. Testing\n",
    "2. Logging\n",
    "3. Code reviews"
   ]
  },
  {
   "cell_type": "markdown",
   "metadata": {},
   "source": [
    "## Testing\n",
    "Testing your code is essential before deployment. It helps you catch errors and faulty conclusions before they make any major impact. Today, employers are looking for data scientists with the skills to properly prepare their code for an industry setting, which includes testing their code.\n",
    "\n",
    "### Testing And Data Science\n",
    "* Problems that could occur in data science aren’t always easily detectable; you might have values being encoded incorrectly, features being used inappropriately, unexpected data breaking assumptions<br>\n",
    "* To catch these errors, you have to check for the quality and accuracy of your analysis in addition to the quality of your code. Proper testing is necessary to avoid unexpected surprises and have confidence in your results.\n",
    "* **TEST DRIVEN DEVELOPMENT:** a development process where you write tests for tasks before you even write the code to implement those tasks.<br>\n",
    "* **UNIT TEST:** a type of test that covers a “unit” of code, usually a single function, independently from the rest of the program.\n",
    "\n",
    "**Resources:**\n",
    "- Four Ways Data Science Goes Wrong and How Test Driven Data Analysis Can Help: [Blog Post](https://www.predictiveanalyticsworld.com/patimes/four-ways-data-science-goes-wrong-and-how-test-driven-data-analysis-can-help/6947/)<br>\n",
    "- Ned Batchelder: Getting Started Testing: [Slide Deck](https://speakerdeck.com/pycon2014/getting-started-testing-by-ned-batchelder) and [Presentation Video](https://www.youtube.com/watch?v=FxSsnHeWQBY)"
   ]
  },
  {
   "cell_type": "markdown",
   "metadata": {},
   "source": [
    "## Testing: Unit Test\n",
    "\n",
    "We want to test our functions in a way that is repeatable and automated. Ideally, we'd run a test program that runs all our unit tests and cleanly lets us know which ones failed and which ones succeeded. Fortunately, there are great tools available in Python that we can use to create effective unit tests!\n",
    "\n",
    "```python\n",
    "def add_something(x,y):\n",
    "    return x+y\n",
    "\n",
    "assert(add_something(4,7) == 11)\n",
    "```\n",
    "\n",
    "### Unit Test Advantages and Disadvantages\n",
    "The advantage of unit tests is that they are isolated from the rest of your program, and thus, no dependencies are involved. They don't require access to databases, APIs, or other external sources of information. However, passing unit tests isn’t always enough to prove that our program is working successfully. To show that all the parts of our program work with each other properly, communicating and transferring data between them correctly, we use integration tests. In this lesson, we'll focus on unit tests; however, when you start building larger programs, you will want to use integration tests as well.\n",
    "\n",
    "You can read about integration testing and how integration tests relate to unit tests [here](https://www.fullstackpython.com/integration-testing.html). That article contains other very useful links as well."
   ]
  },
  {
   "cell_type": "markdown",
   "metadata": {},
   "source": [
    "## Testing - Unit Testing Tools\n",
    "To install `pytest`, run `pip install -U pytest` in your terminal. You can see more information on getting started [here](https://docs.pytest.org/en/latest/getting-started.html).\n",
    "\n",
    "* Create a test file starting with `test_`<br>\n",
    "* Define unit test functions that start with `test_` inside the test file<br>\n",
    "* Enter `pytest` into your terminal in the directory of your test file and it will detect these tests for you!\n",
    "\n",
    "`test_` is the default - if you wish to change this, you can learn how to in this `pytest` [configuration](https://docs.pytest.org/en/latest/customize.html)\n",
    "\n",
    "In the test output, periods represent successful unit tests and F's represent failed unit tests. Since all you see is what test functions failed, it's wise to have only one `assert` statement per test. Otherwise, you wouldn't know exactly how many tests failed, and which tests failed.\n",
    "\n",
    "Your tests won't be stopped by failed `assert` statements, but it will stop if you have syntax errors.\n",
    "\n",
    "```python\n",
    "def add_something(x, y):\n",
    "    return x+y\n",
    "\n",
    "def test_add_something_11():\n",
    "    assert(add_something(4, 7) == 11)\n",
    "\n",
    "#!pytest\n",
    "```"
   ]
  },
  {
   "cell_type": "markdown",
   "metadata": {},
   "source": [
    "## Testing: Test Driven Development and Data Science\n",
    "* **TEST DRIVEN DEVELOPMENT:** writing test before you write code that's being tested. Your test would fail at first, and you'll know you've finished implementing a task when this test passes.<br>\n",
    "* Test can check for all the different scenarios and edge cases you can think of, before even starting to write your function. This way, when you do start implementing your function, you can run this test to get immediate feedback on whether it works or not in all the ways you can think of, as you tweak your function<br>\n",
    "* When refactoring or adding to your code, tests help you rest assured that the rest of your code didn't break while you were making those changes. Tests also help ensure that your function behavior is repearable, regardless of external parameters, such as hardware and time.<br>\n",
    "\n",
    "Test driven development for data science is relatively new and has a lot of experimentation and breakthroughs appearing, which you can lear more about in the resources below\n",
    "* [Data Science TDD](https://www.linkedin.com/pulse/data-science-test-driven-development-sam-savage/)<br>\n",
    "* [TDD for Data Science](http://engineering.pivotal.io/post/test-driven-development-for-data-science/)<br>\n",
    "* [TDD is Essential for Good Data Science Here's Why](https://medium.com/@karijdempsey/test-driven-development-is-essential-for-good-data-science-heres-why-db7975a03a44)<br>\n",
    "* [Testing Your Code](http://docs.python-guide.org/en/latest/writing/tests/) (general python TDD)\n",
    "\n",
    "```python\n",
    "def email_validator(email):\n",
    "    if email.count('@') != 0 \\\n",
    "   and email.count('.') !=0:\n",
    "        return True\n",
    "    else:\n",
    "        return False\n",
    "   \n",
    "def test_email_validator():\n",
    "    assert(email_validator('chris@email.com') == True)\n",
    "    assert(email_validator('chris@email@.com') == False)\n",
    "```\n"
   ]
  },
  {
   "cell_type": "markdown",
   "metadata": {},
   "source": [
    "## Logging\n",
    "Logging is valuable for understanding the events that occur while running your program. For example, if you run your model over nght and see that it's producing ridiculous results the next day, log messages can really help you understand more about the context in which this occurred. Let's learn about the qualities that make a log message effective."
   ]
  },
  {
   "cell_type": "markdown",
   "metadata": {},
   "source": [
    "## Logging: Log Messages\n",
    "Logging is the process of recording messages to describe events that have occured while running your software. Let's take a look at a few examples and leran tips for writing good log messages.\n",
    "\n",
    "**Professional and clear:**\n",
    ">* Bad: Hmmm.. this isn't working???<br>\n",
    ">* Bad: idk.... :(<br>\n",
    ">* Good: Couldn't parse file<br>\n",
    "\n",
    "**Concise and normal capitalization:**\n",
    ">* Bad: Start Product Recommendation Process<br>\n",
    ">* Bad: We have completed the steps necessary and will now proceed with the recommendation process<br>\n",
    ">* Good: Generating product recommendations<br>\n",
    "\n",
    "**Choose the appropriate level for logging:**\n",
    "> * DEBUG: level you would use for anything that happens in the program\n",
    "> * ERROR: level to record any error that occurs\n",
    "> * INFO: level to record all actions that are user-driven or system specific, such as regularly scheduled operations\n",
    "\n",
    "**Provide any useful information:**\n",
    "> * Bad: Failed to read location data\n",
    "> * Good: Failed to read location data: store_id 8324971"
   ]
  },
  {
   "cell_type": "markdown",
   "metadata": {},
   "source": [
    "## Code Reviews\n",
    "Code reviews benefit everyone in a team to promote best programming practices and prepare code for production. Let's go over what to look for in a code review and some tips on how to conduct one<br>\n",
    "* [Code Review](https://github.com/lyst/MakingLyst/tree/master/code-reviews)\n",
    "* [Code Review Best Practices](https://www.kevinlondon.com/2015/05/05/code-review-best-practices.html)"
   ]
  },
  {
   "cell_type": "markdown",
   "metadata": {},
   "source": [
    "## Code Reviews: Questions to Ask Yourself When Conducting a Code Review\n",
    "1. **Is the code clean and modular?**\n",
    "\n",
    ">* Can I understand the code easily?\n",
    ">* Does it use meaningful names and whitespace?\n",
    ">* Is there duplicated code?\n",
    ">* Can you provide another layer of abstraction?\n",
    ">* Is each function and module necessary?\n",
    ">* Is each function or module too long?\n",
    "\n",
    "2. Is the code efficient?\n",
    "\n",
    ">* Are there loops or other steps we can vectorize?\n",
    ">* Can we use better data structures to optimize any steps?\n",
    ">* Can we shorten the number of calculations needed for any steps?\n",
    ">* Can we use generators or multiprocessing to optimize any steps?\n",
    "\n",
    "3. Is documentation effective?\n",
    "\n",
    ">* Are in-line comments concise and meaningful?\n",
    ">* Is there complex code that's missing documentation?\n",
    ">* Do function use effective docstrings?\n",
    ">* Is the necessary project documentation provided?\n",
    "\n",
    "4. Is the code well tested?\n",
    "\n",
    ">* Does the code high test coverage?\n",
    ">* Do tests check for interesting cases?\n",
    ">* Are the tests readable?\n",
    ">* Can the tests be made more efficient?\n",
    "\n",
    "5. Is the logging effective?\n",
    "\n",
    ">* Are log messages clear, concise, and professional?\n",
    ">* Do they include all relevant and useful information?\n",
    ">* Do they use the appropriate logging level?"
   ]
  },
  {
   "cell_type": "markdown",
   "metadata": {},
   "source": [
    "## Code Reviews: Tips for Conducting a Code Review\n",
    "Now that we know what we are looking for, let's go over some tips on how to actually write your code review.\n",
    "\n",
    "When your coworker finishes up some code that they want to merge to the team's code base, they might send it to you for review. You provide feedback and suggestions, and then they may make changes and send it back to you. When you are happy with the code, you approve and it gets merged to the team's code base.\n",
    "\n",
    "As you may have noticed, with code reviews you are now dealing with people, not just computers. So it's important to be thoughtful of their ideas and efforts. You are in a team and there will be differences in preferences. The goal of code review isn't to make all code follow your personal preferences, but a standard of quality for the whole team.\n",
    "\n",
    "**Use a code linter:**\n",
    "Using a Python code linter like [pylint](https://www.pylint.org/) can automatically check for coding standards and PEP 8 guidelines for you! It's also a good idea to agree on a style guide as a team to handle disagreements on code style, whether that's an existing style guide or one you create together incrementally as a team.\n",
    "\n",
    "**Explain issues and make suggestions:**\n",
    "Rather than commanding people to change their code a specific way because it's better, it will go a long way to explain to them the consequences of the current code and *suggest* changes to improve it. They will be much more receptive to your feedback if they understand your thought process and are accepting recommendations, rather than following commands. They also may have done it a certain way intentionally, and framing it as a suggestion promotes a constructive discussion, rather than opposition.\n",
    "\n",
    "* BAD: Make model evaluation code its own module - too repetitive.\n",
    "\n",
    "* BETTER: Make the model evaluation code its own module. This will simplify models.py to be less repetitive and focus primarily on building models.\n",
    "\n",
    "* GOOD: How about we consider making the model evaluation code its own module? This would simplify models.py to only include code for building models. Organizing these evaluations methods into separate functions would also allow us to reuse them with different models without repeating code.\n",
    "\n",
    "**Keep comments objective:**\n",
    "Try to avoid using the words \"I\" and \"you\" in your comments. You want to avoid comments that sound personal to bring the attention of the review to the code and not to themselves.\n",
    "\n",
    "* BAD: I wouldn't groupby genre twice like you did here... Just compute it once and use that for your aggregations.\n",
    "\n",
    "* BAD: You create this groupby dataframe twice here. Just compute it once, save it as groupby_genre and then use that to get your average prices and views.\n",
    "\n",
    "* GOOD: Can we group by genre at the beginning of the function and then save that as a groupby object? We could then reference that object to get the average prices and views without computing groupby twice.\n",
    "\n",
    "**Provide code examples:**\n",
    "When providing a code review, you can save the author time and make it easy for them to act on your feedback by writing out your code suggestions. This shows you are willing to spend some extra time to review their code and help them out. It can also just be much quicker for you to demonstrate concepts through code rather than explanations.\n",
    "\n",
    "Let's say you were reviewing code that included the following lines:\n",
    "```python\n",
    "first_names = []\n",
    "last_names = []\n",
    "\n",
    "for name in enumerate(df.name):\n",
    "    first, last = name.split(' ')\n",
    "    first_names.append(first)\n",
    "    last_names.append(last)\n",
    "\n",
    "df['first_name'] = first_names\n",
    "df['last_names'] = last_names\n",
    "```\n",
    "* BAD: You can do this all in one step by using the pandas str.split method.\n",
    "* GOOD: We can actually simplify this step to the line below using the pandas str.split method. Found this on this [stack overflow post](https://stackoverflow.com/questions/14745022/how-to-split-a-column-into-two-columns):\n",
    "`df['first_name'], df['last_name'] = df['name'].str.split(' ', 1)`"
   ]
  },
  {
   "cell_type": "code",
   "execution_count": null,
   "metadata": {},
   "outputs": [],
   "source": []
  }
 ],
 "metadata": {
  "kernelspec": {
   "display_name": "Python 3",
   "language": "python",
   "name": "python3"
  },
  "language_info": {
   "codemirror_mode": {
    "name": "ipython",
    "version": 3
   },
   "file_extension": ".py",
   "mimetype": "text/x-python",
   "name": "python",
   "nbconvert_exporter": "python",
   "pygments_lexer": "ipython3",
   "version": "3.7.6"
  }
 },
 "nbformat": 4,
 "nbformat_minor": 4
}
