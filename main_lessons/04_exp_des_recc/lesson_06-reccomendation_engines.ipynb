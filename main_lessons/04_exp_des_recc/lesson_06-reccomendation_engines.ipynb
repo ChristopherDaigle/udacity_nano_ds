{
 "cells": [
  {
   "cell_type": "markdown",
   "metadata": {},
   "source": [
    "# Recommendation Engines\n",
    "\n",
    "## Introduction\n",
    "\n",
    "Recommendations are being used to recommend everything from movies to music to friends to new destinations. There are three main methods for implementing recommendations that you will become familiar with throughout this lesson:\n",
    "* Knowledge Based Recommendations\n",
    "* Collaborative Filtering Based Recommendations\n",
    "* Content Based Recommendations\n",
    "\n",
    "After completing this lesson, you will be ready for the upcoming lessons where you will:\n",
    "* Learn about more advanced techniques.\n",
    "* Deploy your recommendations in a web application.\n",
    "\n",
    "These three lessons will aim to be extremely practical. The lessons will require that you write code to implement a number of different recommendation techniques.\n",
    "\n",
    "**Example Recommendations:**\n",
    "\n",
    "* LinkedIn and Facebook\n",
    "> Both LinkedIn and Facebook have recommendations for connections (business of friends) similar to what is shown below.\n",
    "\n",
    "* AirBnB Experiences and Destinations\n",
    "> AirBnB uses recommendations to determine experiences and destinations for their users.\n",
    "\n",
    "* Walmart, Amazon, and Other Retailers\n",
    "> As humans on the Internet, we all get pinged with constant recommendations from retailers."
   ]
  },
  {
   "cell_type": "markdown",
   "metadata": {},
   "source": [
    "## What's Ahead\n",
    "\n",
    "### Types of Recommendations\n",
    "\n",
    "In this lesson, you will be working with the MovieTweetings data to apply each of the three methods of recommendations:\n",
    "1. Knowledge Based Recommendations\n",
    "2. Collaborative Filtering Based Recommendations\n",
    "3. Content Based Recommendations\n",
    "\n",
    "Within Collaborative Filtering, there are two main branches:\n",
    "1. Model Based Collaborative Filtering\n",
    "2. Neighborhood Based Collaborative Filtering\n",
    "\n",
    "In this lesson, you will implement Neighborhood Based Collaborative Filtering. In the next lesson, you will implement Model Based Collaborative Filtering.\n",
    "\n",
    "### Similarity Metrics\n",
    "\n",
    "In order to implement Neighborhood Based Collaborative Filtering, you will learn about some common ways to measure the similarity between two users (or two items) including:\n",
    "1. Pearson's correlation coefficient\n",
    "2. Spearman's correlation coefficient\n",
    "3. Kendall's Tau\n",
    "4. Euclidean Distance\n",
    "5. Manhattan Distance\n",
    "\n",
    "You will learn why sometimes one metric works better than another by looking at a specific situation where one metric provides more information than another.\n",
    "\n",
    "### Business Cases For Recommendations\n",
    "\n",
    "Finally, you will look at the four ideas needed for businesses to implement successful recommendations to drive revenue, which include:\n",
    "1. Relevance\n",
    "2. Novelty\n",
    "3. Serendipity\n",
    "4. Increased Diversity\n",
    "\n",
    "At the end of this lesson, you will have gained a ton of skills to build upon or to start creating your own recommendations in practice."
   ]
  },
  {
   "cell_type": "markdown",
   "metadata": {},
   "source": [
    "## Base Data - MovieTweetings\n",
    "\n",
    "If you would like additional information about the MovieTweetings data, you can find more information at the links provided here:\n",
    "* [The MovieTweetings white paper(DEADLINK)](http://crowdrec2013.noahlab.com.hk/papers/crowdrec2013_Dooms.pdf)\n",
    "* [A Github account set up for MovieTweetings](https://github.com/sidooms/MovieTweetings)\n",
    "* [A slide deck by Simon Doom about MovieTweetings.](https://www.slideshare.net/simondooms/movie-tweetings-a-movie-rating-dataset-collected-from-twitter)\n",
    "> Attached in repo as well"
   ]
  },
  {
   "cell_type": "markdown",
   "metadata": {},
   "source": [
    "### Recommendations with MovieTweetings: Getting to Know The Data\n",
    "\n",
    "Throughout this lesson, you will be working with the [MovieTweetings Data](https://github.com/sidooms/MovieTweetings/tree/master/recsyschallenge2014).\n",
    "\n",
    "**Note:** There are solutions to each of the notebooks available by hitting the orange jupyter logo in the top left of this notebook.  Additionally, you can watch me work through the solutions on the screencasts that follow each workbook. \n",
    "\n",
    "To get started, read in the libraries and the two datasets you will be using throughout the lesson using the code below."
   ]
  },
  {
   "cell_type": "code",
   "execution_count": 1,
   "metadata": {},
   "outputs": [],
   "source": [
    "import numpy as np\n",
    "import pandas as pd\n",
    "import matplotlib.pyplot as plt\n",
    "import tests as t\n",
    "\n",
    "%matplotlib inline"
   ]
  },
  {
   "cell_type": "code",
   "execution_count": 3,
   "metadata": {},
   "outputs": [],
   "source": [
    "# Read in the MovieTweetings dataset originally taken from https://github.com/sidooms/MovieTweetings/tree/master/latest\n",
    "movies = pd.read_csv(\n",
    "    '06_recommendation_engines/movies.dat',\n",
    "    delimiter='::',\n",
    "    header=None,\n",
    "    names=['movie_id', 'movie', 'genre'],\n",
    "    dtype={'movie_id': object},\n",
    "    engine='python')\n",
    "reviews = pd.read_csv(\n",
    "    '06_recommendation_engines/ratings.dat',\n",
    "    delimiter='::',\n",
    "    header=None,\n",
    "    names=['user_id', 'movie_id', 'rating', 'timestamp'],\n",
    "    dtype={'movie_id': object, 'user_id': object, 'timestamp': object},\n",
    "    engine='python')"
   ]
  },
  {
   "cell_type": "code",
   "execution_count": null,
   "metadata": {},
   "outputs": [],
   "source": []
  }
 ],
 "metadata": {
  "kernelspec": {
   "display_name": "venv_ud",
   "language": "python",
   "name": "venv_ud"
  },
  "language_info": {
   "codemirror_mode": {
    "name": "ipython",
    "version": 3
   },
   "file_extension": ".py",
   "mimetype": "text/x-python",
   "name": "python",
   "nbconvert_exporter": "python",
   "pygments_lexer": "ipython3",
   "version": "3.7.6"
  }
 },
 "nbformat": 4,
 "nbformat_minor": 4
}
