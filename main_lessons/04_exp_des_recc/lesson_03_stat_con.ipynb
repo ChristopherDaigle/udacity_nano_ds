{
 "cells": [
  {
   "cell_type": "markdown",
   "metadata": {},
   "source": [
    "# Statistical Considerations in Testing\n",
    "\n",
    "<!-- How do you deduce **causality**? *Run an experiment!*\n",
    "\n",
    "Covered in this lesson:\n",
    "1. [What is an expirement](#what_is)<br>\n",
    "\n",
    "> 1.1 [1.1 What types of studies are there](#study_types)<br>\n",
    "\n",
    "2. [What types of experiments are there](#types)<br>\n",
    "\n",
    "> 2.1 [Types of Sampling](#sampling)<br>\n",
    "\n",
    "3. [How are outcomes measured](#measured)<br>\n",
    "\n",
    "> 3.1: [Creating Metrics](#met_create)<br>\n",
    "\n",
    "> 3.2: [Controlling Variables](#cont_var)<br>\n",
    "\n",
    "> 3.3: [Checking Validity](#validity)<br>\n",
    "\n",
    "> 3.4: [Checking Bias](#bias)<br>\n",
    "\n",
    "> 3.5: [Ethics in Experimentation](#ethics)<br>\n",
    "\n",
    "4. [Experiment Design Plaining](#planning)<br>\n",
    "\n",
    "By the end of this section, you will know what is required to create experiments that effectively address your goals. -->"
   ]
  }
 ],
 "metadata": {
  "kernelspec": {
   "display_name": "venv_nano_ds",
   "language": "python",
   "name": "venv_nano_ds"
  },
  "language_info": {
   "codemirror_mode": {
    "name": "ipython",
    "version": 3
   },
   "file_extension": ".py",
   "mimetype": "text/x-python",
   "name": "python",
   "nbconvert_exporter": "python",
   "pygments_lexer": "ipython3",
   "version": "3.7.6"
  }
 },
 "nbformat": 4,
 "nbformat_minor": 4
}
