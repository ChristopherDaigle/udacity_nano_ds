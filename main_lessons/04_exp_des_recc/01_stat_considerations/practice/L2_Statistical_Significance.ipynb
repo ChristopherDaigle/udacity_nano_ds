{
 "cells": [
  {
   "cell_type": "markdown",
   "metadata": {},
   "source": [
    "# Practice: Statistical Significance\n",
    "\n",
    "Let's say that we've collected data for a web-based experiment. In the experiment, we're testing the change in layout of a product information page to see if this affects the proportion of people who click on a button to go to the download page. This experiment has been designed to have a cookie-based diversion, and we record two things from each user: which page version they received, and whether or not they accessed the download page during the data recording period. (We aren't keeping track of any other factors in this example, such as number of pageviews, or time between accessing the page and making the download, that might be of further interest.)\n",
    "\n",
    "Your objective in this notebook is to perform a statistical test on both recorded metrics to see if there is a statistical difference between the two groups."
   ]
  },
  {
   "cell_type": "code",
   "execution_count": 3,
   "metadata": {},
   "outputs": [],
   "source": [
    "# import packages\n",
    "\n",
    "import numpy as np\n",
    "import pandas as pd\n",
    "import scipy.stats as stats\n",
    "from statsmodels.stats import proportion as proptests\n",
    "\n",
    "import matplotlib.pyplot as plt\n",
    "%matplotlib inline"
   ]
  },
  {
   "cell_type": "code",
   "execution_count": 6,
   "metadata": {},
   "outputs": [
    {
     "data": {
      "text/html": [
       "<div>\n",
       "<style scoped>\n",
       "    .dataframe tbody tr th:only-of-type {\n",
       "        vertical-align: middle;\n",
       "    }\n",
       "\n",
       "    .dataframe tbody tr th {\n",
       "        vertical-align: top;\n",
       "    }\n",
       "\n",
       "    .dataframe thead th {\n",
       "        text-align: right;\n",
       "    }\n",
       "</style>\n",
       "<table border=\"1\" class=\"dataframe\">\n",
       "  <thead>\n",
       "    <tr style=\"text-align: right;\">\n",
       "      <th></th>\n",
       "      <th>condition</th>\n",
       "      <th>click</th>\n",
       "    </tr>\n",
       "  </thead>\n",
       "  <tbody>\n",
       "    <tr>\n",
       "      <th>0</th>\n",
       "      <td>1</td>\n",
       "      <td>0</td>\n",
       "    </tr>\n",
       "    <tr>\n",
       "      <th>1</th>\n",
       "      <td>0</td>\n",
       "      <td>0</td>\n",
       "    </tr>\n",
       "    <tr>\n",
       "      <th>2</th>\n",
       "      <td>0</td>\n",
       "      <td>0</td>\n",
       "    </tr>\n",
       "    <tr>\n",
       "      <th>3</th>\n",
       "      <td>1</td>\n",
       "      <td>1</td>\n",
       "    </tr>\n",
       "    <tr>\n",
       "      <th>4</th>\n",
       "      <td>1</td>\n",
       "      <td>0</td>\n",
       "    </tr>\n",
       "    <tr>\n",
       "      <th>5</th>\n",
       "      <td>1</td>\n",
       "      <td>0</td>\n",
       "    </tr>\n",
       "    <tr>\n",
       "      <th>6</th>\n",
       "      <td>0</td>\n",
       "      <td>0</td>\n",
       "    </tr>\n",
       "    <tr>\n",
       "      <th>7</th>\n",
       "      <td>1</td>\n",
       "      <td>1</td>\n",
       "    </tr>\n",
       "    <tr>\n",
       "      <th>8</th>\n",
       "      <td>0</td>\n",
       "      <td>0</td>\n",
       "    </tr>\n",
       "    <tr>\n",
       "      <th>9</th>\n",
       "      <td>1</td>\n",
       "      <td>0</td>\n",
       "    </tr>\n",
       "  </tbody>\n",
       "</table>\n",
       "</div>"
      ],
      "text/plain": [
       "   condition  click\n",
       "0          1      0\n",
       "1          0      0\n",
       "2          0      0\n",
       "3          1      1\n",
       "4          1      0\n",
       "5          1      0\n",
       "6          0      0\n",
       "7          1      1\n",
       "8          0      0\n",
       "9          1      0"
      ]
     },
     "execution_count": 6,
     "metadata": {},
     "output_type": "execute_result"
    }
   ],
   "source": [
    "# import data\n",
    "\n",
    "data = pd.read_csv('../data/statistical_significance_data.csv')\n",
    "data.head(10)"
   ]
  },
  {
   "cell_type": "markdown",
   "metadata": {},
   "source": [
    "In the dataset, the 'condition' column takes a 0 for the control group, and 1 for the experimental group. The 'click' column takes a values of 0 for no click, and 1 for a click.\n",
    "\n",
    "## Checking the Invariant Metric\n",
    "\n",
    "First of all, we should check that the number of visitors assigned to each group is similar. It's important to check the invariant metrics as a prerequisite so that our inferences on the evaluation metrics are founded on solid ground. If we find that the two groups are imbalanced on the invariant metric, then this will require us to look carefully at how the visitors were split so that any sources of bias are accounted for. It's possible that a statistically significant difference in an invariant metric will require us to revise random assignment procedures and re-do data collection.\n",
    "\n",
    "In this case, we want to do a two-sided hypothesis test on the proportion of visitors assigned to one of our conditions. Choosing the control or the experimental condition doesn't matter: you'll get the same result either way. Feel free to use whatever method you'd like: we'll highlight two main avenues below.\n",
    "\n",
    "If you want to take a simulation-based approach, you can simulate the number of visitors that would be assigned to each group for the number of total observations, assuming that we have an expected 50/50 split. Do this many times (200 000 repetitions should provide a good speed-variability balance in this case) and then see in how many simulated cases we get as extreme or more extreme a deviation from 50/50 that we actually observed. Don't forget that, since we have a two-sided test, an extreme case also includes values on the opposite side of 50/50. (e.g. Since simulated outcomes of .48 and lower are considered as being more extreme than an actual observation of 0.48, so too will simulated outcomes of .52 and higher.) The proportion of flagged simulation outcomes gives us a p-value on which to assess our observed proportion. We hope to see a larger p-value, insufficient evidence to reject the null hypothesis.\n",
    "\n",
    "If you want to take an analytic approach, you could use the exact binomial distribution to compute a p-value for the test. The more usual approach, however, is to use the normal distribution approximation. Recall that this is possible thanks to our large sample size and the central limit theorem. To get a precise p-value, you should also perform a \n",
    "continuity correction, either adding or subtracting 0.5 to the total count before computing the area underneath the curve. (e.g. If we had 415 / 850 assigned to the control group, then the normal approximation would take the area to the left of $(415 + 0.5) / 850 = 0.489$ and to the right of $(435 - 0.5) / 850 = 0.511$.)\n",
    "\n",
    "You can check your results by completing the following the workspace and the solution on the following page. You could also try using multiple approaches and seeing if they come up with similar outcomes!"
   ]
  },
  {
   "cell_type": "code",
   "execution_count": null,
   "metadata": {},
   "outputs": [],
   "source": [
    "# your work here: feel free to create additional code cells as needed!"
   ]
  },
  {
   "cell_type": "code",
   "execution_count": 45,
   "metadata": {},
   "outputs": [
    {
     "name": "stdout",
     "output_type": "stream",
     "text": [
      "Group 1 has 508 members\n",
      "Group 0 has 491 members\n",
      "Difference of 17 members\n",
      "Proportionally, 3.35% more members in the larger group\n"
     ]
    }
   ],
   "source": [
    "# Check the number of visitors in each group:\n",
    "groups = {str(i): data['condition'].value_counts()[i] for i in data['condition'].value_counts().index}\n",
    "for group in groups.keys():\n",
    "    print(f\"Group {group} has {groups[group]} members\")\n",
    "print(\"Difference of {} members\".format(abs(groups['0'] - groups['1'])))\n",
    "print(\"Proportionally, {:.2%} more members in the larger group\".format((abs(groups['0'] - groups['1']) / max(groups['0'], groups['1']))))\n",
    "num_obs = data.shape[0]\n",
    "n_control = groups['0']"
   ]
  },
  {
   "cell_type": "code",
   "execution_count": 56,
   "metadata": {},
   "outputs": [
    {
     "name": "stdout",
     "output_type": "stream",
     "text": [
      "Simulation Approach P-Value: 0.612616\n"
     ]
    }
   ],
   "source": [
    "## Simulation Approach:\n",
    "#######################\n",
    "## If you want to take a simulation-based approach, you can simulate the number of visitors that would be assigned \n",
    "## to each group for the number of total observations, assuming that we have an expected 50/50 split.\n",
    "p = 0.5 # 50/50 split\n",
    "## Do this many times (200,000 repetitions should provide a good speed-variability balance in this case) \n",
    "n_trial = 500000 # Set number for repetitions\n",
    "## simulate the number of visitors that would be assigned to each group for the number of total observations\n",
    "## , assuming that we have an expected 50/50 split (p)\n",
    "samples = np.random.binomial(n=num_obs, p=p, size=n_trial) # Sample from binomial distribution with 0.5 distribtion\n",
    "comp_vect = np.logical_or(samples <= min(groups['0'], groups['1']), samples >= max(groups['0'], groups['1'])) # vectorized comparison of number in group to sample\n",
    "p_val = comp_vect.mean() # average of times the sample was outside of min and max values of group obs\n",
    "print(f\"Simulation Approach P-Value: {p_val}\")"
   ]
  },
  {
   "cell_type": "code",
   "execution_count": 67,
   "metadata": {},
   "outputs": [
    {
     "name": "stdout",
     "output_type": "stream",
     "text": [
      "0.6127039025537114\n"
     ]
    }
   ],
   "source": [
    "## Analytical Approach:\n",
    "#######################\n",
    "p = 0.5 # 50/50 split\n",
    "## could use the exact binomial distribution to compute a p-value for the test.\n",
    "sd = np.sqrt(p * (1-p) * num_obs) # standard dev\n",
    "\n",
    "# z = ((min(groups['0'],groups['1']) + 0.5) - p * num_obs) / sd\n",
    "# z2 = ((max(groups['0'],groups['1']) - 0.5) - p * num_obs) / sd\n",
    "print(2 * stats.norm.cdf(z)) # Computing the area under the distribution curve of the random-variable z"
   ]
  },
  {
   "cell_type": "markdown",
   "metadata": {},
   "source": [
    "## Checking the Evaluation Metric\n",
    "\n",
    "After performing our checks on the invariant metric, we can move on to performing a hypothesis test on the evaluation metric: the click-through rate. In this case, we want to see that the experimental group has a significantly larger click-through rate than the control group, a one-tailed test.\n",
    "\n",
    "The simulation approach for this metric isn't too different from the approach for the invariant metric. You'll need the overall click-through rate as the common proportion to draw simulated values from for each group. You may also want to perform more simulations since there's higher variance for this test.\n",
    "\n",
    "There are a few analytic approaches possible here, but you'll probably make use of the normal approximation again in these cases. In addition to the pooled click-through rate, you'll need a pooled standard deviation in order to compute a z-score. While there is a continuity correction possible in this case as well, it's much more conservative than the p-value that a simulation will usually imply. Computing the z-score and resulting p-value without a continuity correction should be closer to the simulation's outcomes, though slightly more optimistic about there being a statistical difference between groups.\n",
    "\n",
    "As with the previous question, you'll find a quiz and solution following the workspace for you to check your results."
   ]
  },
  {
   "cell_type": "code",
   "execution_count": 112,
   "metadata": {},
   "outputs": [
    {
     "name": "stdout",
     "output_type": "stream",
     "text": [
      "condition\n",
      "0    0.079430\n",
      "1    0.112205\n",
      "Name: click, dtype: float64\n",
      "\n",
      "Difference between average click rate: 0.033 points\n"
     ]
    }
   ],
   "source": [
    "# your work here: feel free to create additional code cells as needed!\n",
    "p_click = data.groupby('condition').mean()['click']\n",
    "print(p_click)\n",
    "diff = abs(p_click[0] - p_click[1])\n",
    "print()\n",
    "print(f\"Difference between average click rate: {diff:.2} points\")"
   ]
  },
  {
   "cell_type": "code",
   "execution_count": 115,
   "metadata": {},
   "outputs": [
    {
     "name": "stdout",
     "output_type": "stream",
     "text": [
      "Simulation Approach P-Value: 0.039785\n"
     ]
    }
   ],
   "source": [
    "## Simulation Approach:\n",
    "#######################\n",
    "# get number of trials and overall 'success' rate under null\n",
    "groups = {str(i): data['condition'].value_counts()[i] for i in data['condition'].value_counts().index}\n",
    "# n_control = group['0']\n",
    "# n_exper = group['1']\n",
    "p_null = data['click'].mean() # pooled click-rate\n",
    "\n",
    "# simulate outcomes under null, compare to observed outcome\n",
    "n_trials = 200000\n",
    "ctrl_clicks = np.random.binomial(groups['0'], p_null, n_trials) # Random sample control grp clicks by average clicks\n",
    "avg_ctl_click = ctrl_clicks / groups['0']\n",
    "\n",
    "exp_clicks = np.random.binomial(groups['1'], p_null, n_trials) # Random sample exper grp clicks by average clicks\n",
    "avg_exp_clicks = exp_clicks / groups['1']\n",
    "\n",
    "samples = avg_exp_clicks - avg_ctl_click # Difference in the average number of clicks per group simulated\n",
    "\n",
    "p_val = (samples >= (p_click[1] - p_click[0])).mean() # Rate of times the simulation exceeds the actual\n",
    "print(f\"Simulation Approach P-Value: {p_val}\")"
   ]
  },
  {
   "cell_type": "code",
   "execution_count": 118,
   "metadata": {},
   "outputs": [
    {
     "name": "stdout",
     "output_type": "stream",
     "text": [
      "Analytical Approach P-Value: 0.039442821974613684\n"
     ]
    }
   ],
   "source": [
    "## Analytical Approach:\n",
    "#######################\n",
    "se_p = np.sqrt(p_null * (1-p_null) * (1/groups['0'] + 1/groups['1'])) # pooled standard deviation\n",
    "z = (p_click[1] - p_click[0]) / se_p # z-score\n",
    "p_val = 1-stats.norm.cdf(z)\n",
    "print(f\"Analytical Approach P-Value: {p_val}\")"
   ]
  },
  {
   "cell_type": "code",
   "execution_count": null,
   "metadata": {},
   "outputs": [],
   "source": []
  }
 ],
 "metadata": {
  "kernelspec": {
   "display_name": "Python 3",
   "language": "python",
   "name": "python3"
  },
  "language_info": {
   "codemirror_mode": {
    "name": "ipython",
    "version": 3
   },
   "file_extension": ".py",
   "mimetype": "text/x-python",
   "name": "python",
   "nbconvert_exporter": "python",
   "pygments_lexer": "ipython3",
   "version": "3.7.6"
  }
 },
 "nbformat": 4,
 "nbformat_minor": 2
}
