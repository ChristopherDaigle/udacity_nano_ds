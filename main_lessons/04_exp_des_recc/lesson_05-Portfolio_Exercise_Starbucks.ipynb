{
 "cells": [
  {
   "cell_type": "markdown",
   "metadata": {},
   "source": [
    "# Portfolio Exercise: Starbucks\n",
    "<center><img src='sbux_logo.jpeg' width=400></center>\n",
    "\n",
    "## Background Information\n",
    "\n",
    "The dataset you will be provided in this portfolio exercise was originally used as a take-home assignment provided by Starbucks for their job candidates. The data for this exercise consists of about 120,000 data points split in a 2:1 ratio among training and test files.\n",
    "\n",
    "In the experiment simulated by the data, an advertising promotion was tested to see if it would bring more customers to purchase a specific product priced at \\$10. Since it costs the company \\$0.15 to send out each promotion, it would be best to limit that promotion only to those that are most receptive to the promotion. \n",
    "\n",
    "Each data point includes one column indicating whether or not an individual was sent a promotion for the product, and one column indicating whether or not that individual eventually purchased that product. Each individual also has seven additional features associated with them, which are provided abstractly as V1-V7.\n",
    "\n",
    "## Optimization Strategy\n",
    "\n",
    "Your task is to use the training data to understand what patterns in V1-V7 indicate that a promotion should be provided to a user. Specifically, your goal is to maximize the following metrics:\n",
    "\n",
    "* **Incremental Response Rate (IRR)**\n",
    "\n",
    "IRR depicts how many more customers purchased the product with the promotion, as compared to if they didn't receive the promotion. Mathematically, it's the ratio of the number of purchasers in the promotion group to the total number of customers in the purchasers group (treatment) minus the ratio of the number of purchasers in the non-promotional group to the total number of customers in the non-promotional group (control).\n",
    "\n",
    "$$IRR = \\frac{purch_{treat}}{cust_{treat}} - \\frac{purch_{ctrl}}{cust_{ctrl}}$$\n",
    "\n",
    "* N**et Incremental Revenue (NIR)**\n",
    "\n",
    "NIR depicts how much is made (or lost) by sending out the promotion. Mathematically, this is 10 times the total number of purchasers that received the promotion minus 0.15 times the number of promotions sent out, minus 10 times the number of purchasers who were not given the promotion.\n",
    "\n",
    "$$NIR = \\left(10 \\cdot purch_{treat} - 0.15 \\cdot cust_{treat}\\right) - 10 \\cdot purch_{ctrl}$$\n",
    "\n",
    "For a full description of what Starbucks provides to candidates see the [instructions available here](https://drive.google.com/open?id=18klca9Sef1Rs6q8DW4l7o349r8B70qXM).\n",
    "\n",
    "You can find the data in the workspace on the next page. Explore the data and different optimization strategies.\n",
    "\n",
    "## How To Test Your Strategy?\n",
    "\n",
    "When you feel like you have an optimization strategy, complete the `promotion_strategy` function to pass to the `test_results` function.\n",
    "From past data, we know there are four possible outcomes:\n",
    "\n",
    "Table of actual promotion vs. predicted promotion customers:\n",
    "\n",
    "|Predicted\\Actual|yes|no|\n",
    "|-|-|-|\n",
    "|yes| I| II|\n",
    "|no|III|IV|\n",
    "\n",
    "The metrics are only being compared for the individuals we predict should obtain the promotion – that is, quadrants I and II. Since the first set of individuals that receive the promotion (in the training set) receive it randomly, we can expect that quadrants I and II will have approximately equivalent participants.\n",
    "\n",
    "Comparing quadrant I to II then gives an idea of how well your promotion strategy will work in the future.\n",
    "\n",
    "See how each variable or combination of variables along with a promotion influences the chance of purchasing. When you feel like you have a strategy for who should receive a promotion, test your strategy against the test dataset used in the final `test_results` function."
   ]
  },
  {
   "cell_type": "markdown",
   "metadata": {},
   "source": [
    "# Instructions from Starbucks\n",
    "Take Home Assignment\n",
    "\n",
    "A randomized experiment was conducted and the results are in ‘Training.csv’\n",
    "Treatment – Indicates if the customer was part of treatment or control\n",
    "Purchase – Indicates if the customer purchased the product\n",
    "ID – Customer ID\n",
    "V1 to V7 – features of the customer\n",
    "Cost of sending a Promotion: $0.15\n",
    "Revenue from purchase of product: $10 (There is only one product)\n",
    "\n",
    "Questions:\n",
    "1. Analyze the results of the experiment and identify the effect of the Treatment on\n",
    "product purchase and Net Incremental Revenue\n",
    "\n",
    "2. Build a model to select the best customers to target that maximizes the Incremental\n",
    "Response Rate and Net Incremental Revenue.\n",
    "Deliverables\n",
    "\n",
    "3. Score the ‘Test.csv’ using the model and select the best customers and share the\n",
    "customer ID’s as csv file\n",
    "\n",
    "4. Explain briefly the approach used in a separate document and also share the code that\n",
    "can be executed to reproduce results."
   ]
  },
  {
   "cell_type": "code",
   "execution_count": null,
   "metadata": {},
   "outputs": [],
   "source": []
  }
 ],
 "metadata": {
  "kernelspec": {
   "display_name": "venv_ud",
   "language": "python",
   "name": "venv_ud"
  },
  "language_info": {
   "codemirror_mode": {
    "name": "ipython",
    "version": 3
   },
   "file_extension": ".py",
   "mimetype": "text/x-python",
   "name": "python",
   "nbconvert_exporter": "python",
   "pygments_lexer": "ipython3",
   "version": "3.7.6"
  }
 },
 "nbformat": 4,
 "nbformat_minor": 4
}
