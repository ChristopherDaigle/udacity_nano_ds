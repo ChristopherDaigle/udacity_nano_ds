{
 "cells": [
  {
   "cell_type": "markdown",
   "metadata": {},
   "source": [
    "# Creating a Python package - Analyze a Gaussian Distribution\n",
    "- Read dataset\n",
    "- Calculate mean\n",
    "- Calculate standard deviation\n",
    "- Plot histogram\n",
    "- Plot probability density function (PDF)\n",
    "\n",
    "<br><br>\n",
    "* **Gaussian Distribution PDF**:\n",
    "$$f\\left(x\\ \\middle| \\ \\mu , \\ \\sigma^{2} \\right)=\\frac{1}{\\sqrt{2\\pi\\sigma^{2}}}e^{\\frac{-\\left(x-\\mu\\right)^{2}}{2\\sigma^{2}}}$$<br>\n",
    "\n",
    "* **Binomial Distribution**:\n",
    "The binomial distribution is used when there are exactly two mutually exclusive outcomes of a trial. These outcomes are appropriately labeled \"success\" and \"failure\". The binomial distribution is used to obtain the probability of observing $k$ successes in $n$ trials, with the probability of success on a single trial denoted by $p$. The binomial distribution assumes that $p$ is fixed for all trials\n",
    "\n",
    "$$f\\left(k,\\ n,\\ p\\right) = \\frac{n!}{k!\\left(n-k\\right)!}p^{k}\\left(1-p\\right)^{\\left(n-k\\right)}$$\n",
    "\n",
    "Where $p$ is the probability of an outcome, $n$ is the number of observations, $k$ is the outcome of interest\n",
    "\n",
    "> * mean: $\\mu = n\\cdot p$<br>\n",
    "> * variance: $\\sigma^{2}=n\\cdot p \\cdot \\left(1-p\\right)$\n",
    "> * standard deviation: $\\sqrt{n\\cdot p \\cdot \\left(1-p\\right)}$<br>\n",
    "\n",
    "> Example:<br>\n",
    "Let $k=2$, $n=2$, amd $p=0.5$\n",
    "$$f\\left(k=2,\\ n=2,\\ p=2\\right)=\\frac{2!}{2!\\left(2-2\\right)!}\\left(0.5\\right)^{2}\\left(1-0.5\\right)^{\\left(2-2\\right)}=\\frac{2}{2}\\left(0.25\\right)\\left(1\\right)=0.25$$"
   ]
  },
  {
   "cell_type": "markdown",
   "metadata": {},
   "source": [
    "## ASIDE: Further Resources\n",
    "If you would like to review the Gaussian (normal) distribution and binomial distribution, here are a few resources:\n",
    "\n",
    "This free Udacity course, [Intro to Statistics](https://www.udacity.com/course/intro-to-statistics--st101), has a lesson on Gaussian distributions as well as the Binomial distribution.\n",
    "\n",
    "This free course, [Intro to Descriptive Statistics](https://www.udacity.com/course/intro-to-descriptive-statistics--ud827), also has a Gaussian distributions lesson.\n",
    "\n",
    "**Here are the wikipedia articles:**\n",
    "* [Gaussian Distributions Wikipedia](https://en.wikipedia.org/wiki/Normal_distribution)\n",
    "* [Binomial Distributions Wikipedia](https://en.wikipedia.org/wiki/Normal_distribution)"
   ]
  }
 ],
 "metadata": {
  "kernelspec": {
   "display_name": "Python 3",
   "language": "python",
   "name": "python3"
  },
  "language_info": {
   "codemirror_mode": {
    "name": "ipython",
    "version": 3
   },
   "file_extension": ".py",
   "mimetype": "text/x-python",
   "name": "python",
   "nbconvert_exporter": "python",
   "pygments_lexer": "ipython3",
   "version": "3.7.6"
  }
 },
 "nbformat": 4,
 "nbformat_minor": 4
}
