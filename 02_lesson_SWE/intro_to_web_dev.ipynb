{
 "cells": [
  {
   "cell_type": "markdown",
   "metadata": {},
   "source": [
    "# MOTIVATION: Why should a data scientist learn web development?\n",
    "In this course, you are going to use Flask to build a data dashboard. You might be thinking that you already have good tools for visualizing data such as matplotlib, seaborn, or Tableau.\n",
    "\n",
    "However, the web development skills you'll learn in this lesson will prepare you for building other types of data science applications. Data scientists are increasingly being asked to deploy their work as an application in the cloud.\n",
    "\n",
    "For example, consider a project where you build a model that classifies disaster relief messages into categories. With your web development skills, you could turn that model into a web app where you would input a message and display the resulting message category.\n",
    "\n",
    "As another example, consider a system that recommends movies based on a user's preferences. Part of the recommendation engine could include a web application that displays recommended products based on a userid. What you learn in this course will set you up for building the web app portion of the recommendation engine."
   ]
  },
  {
   "cell_type": "markdown",
   "metadata": {},
   "source": [
    "# How to Think about This Lesson\n",
    "The lesson first gives an overview of the three base languages for web development: html, css, and JavaScript. You could take an entire course just on each of these languages. The goal is for you to get comfortable writing at least some code in each language so that you understand the web template files at the end of the lesson. This lesson goes through a lot of information to get you up to speed.\n",
    "\n",
    "To work with the web template and make a data dashboard, you will only need to write Python code. If you want to customize the dashboard, you can do so with just a few changes to the html code. But the underlying technologies of data dashboard will be css, html, JavaScript, and Python.\n",
    "\n",
    "## Lesson Outline\n",
    "* Basics of a web app\n",
    "> * html\n",
    "> * css\n",
    "> * javascript\n",
    "* Front-end libraries\n",
    "> * boostrap\n",
    "> * plotly\n",
    "* Back-end libraries\n",
    "> * flask\n",
    "* Deploy a web app to the cloud\n",
    "\n",
    "## Lesson Files\n",
    "All of the lesson's exercises are contained in classroom workspaces. You'll even deploy a web app from the classroom workspace; however, if you prefer to work locally, you can find the lesson files in this [data scientist nanodegree GitHub repo](https://github.com/ChristopherDaigle/udacity_nano_ds/tree/master/udacity_dsnd_two/lessons/WebDevelopment)."
   ]
  },
  {
   "cell_type": "markdown",
   "metadata": {},
   "source": [
    "## Three Main Components to a Website:\n",
    "1. HTML\n",
    "> Controls the content\n",
    "2. CSS\n",
    "> Controls styling\n",
    "3. Javascript\n",
    "> Controls interactivity"
   ]
  },
  {
   "cell_type": "markdown",
   "metadata": {},
   "source": [
    "## Building the Front-End - Intro to HTML\n",
    "HTML Document Example:\n",
    "```html\n",
    "<!DOCTYPE html>\n",
    "\n",
    "<html>\n",
    "\n",
    "<head>\n",
    "    <title>Page Title</title>\n",
    "</head>\n",
    "\n",
    "<body>\n",
    "    <h1>A Photo of a Beautiful Landscape</h1>\n",
    "    <a href=\"https://www.w3schools.com/tags\">HTML tags</a>\n",
    "    <p>Here is the photo</p>\n",
    "    <img src=\"photo.jpg\" alt=\"Country Landscape\">\n",
    "</body>\n",
    "\n",
    "</html>\n",
    "```\n",
    "\n",
    "### Explanation of the HTML document\n",
    "As you progress through the lesson, you'll find that the `<head>` tag is mostly for housekeeping like specifying the page title and adding meta tags. Meta tags are in essence information about the page that web crawlers see but users do not. The head tag also contains links to javascript and css files, which you'll see later in the lesson.\n",
    "\n",
    "The website content goes in the `<body>` tag. The body tag can contain headers, paragraphs, images, links, forms, lists, and a handful of other tags. Of particular note in this example are the link tag `<a>` and the image tag `<img>`.\n",
    "\n",
    "Both of these tags link to external information outside of the html doc. In the html code above, the link `<a>` tag links to an external website called w3schools. The href is called an attribute, and in this case href specifies the link.\n",
    "\n",
    "The image `<img>` tag displays an image called \"photo.jpg\". In this case, the jpg file and the html document are in the same directory, but the documents do not have to be. The src attribute specifies the path to the image file relative to the html document. The alt tag contains text that gets displaced in case the image cannot be found.\n",
    "\n",
    "```\n",
    "├── HTML\n",
    "│   ├── Head\n",
    "│   │   ├── title\n",
    "│   │   ├── meta\n",
    "│   │   ├── style\n",
    "│   ├── Body\n",
    "│   │   ├── h1\n",
    "│   │   ├── p\n",
    "│   │   │   ├── img\n",
    "│   │   │   ├── a\n",
    "│   │   │   ├── a\n",
    "│   │   ├── img\n",
    "│   │   ├── a\n",
    "```\n",
    "\n",
    "### Full List of Tags and How to Use Them\n",
    "This is a link to one of the best references for html. Use this website to look up html tags and how to use them. [W3Schools HTML Tags](https://www.w3schools.com/tags/default.asp)\n",
    "\n",
    "In fact, the [W3Schools website](https://www.w3schools.com/) has a lot of free information about web development syntax.\n",
    "\n",
    "### Checking your HTML\n",
    "It's a good idea to check the validity of your HTML. Here is a website that checks your HTML for syntax errors: [W3C Validator](https://validator.w3.org/#validate_by_input). Try pasting your HTML code here and running the validator. You can read through the error messages and fix your HTML."
   ]
  },
  {
   "cell_type": "code",
   "execution_count": null,
   "metadata": {},
   "outputs": [],
   "source": []
  }
 ],
 "metadata": {
  "kernelspec": {
   "display_name": "Python 3",
   "language": "python",
   "name": "python3"
  },
  "language_info": {
   "codemirror_mode": {
    "name": "ipython",
    "version": 3
   },
   "file_extension": ".py",
   "mimetype": "text/x-python",
   "name": "python",
   "nbconvert_exporter": "python",
   "pygments_lexer": "ipython3",
   "version": "3.7.6"
  }
 },
 "nbformat": 4,
 "nbformat_minor": 4
}
