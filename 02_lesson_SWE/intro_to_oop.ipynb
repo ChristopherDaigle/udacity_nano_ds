{
 "cells": [
  {
   "cell_type": "markdown",
   "metadata": {},
   "source": [
    "# Object Oriented Programing:\n",
    "1. Syntax\n",
    "2. Build a Python Package\n",
    "\n",
    "## Syntax\n",
    "1. procedural vs object-oriented programming\n",
    "2. classes, objects, methods and attributes\n",
    "3. coding a class\n",
    "4. magic methods\n",
    "5. inheritance\n",
    "\n",
    "## Build a Python Package\n",
    "1. making a package\n",
    "2. tour of scikit-learn source code\n",
    "3. putting your package on PyPi"
   ]
  },
  {
   "cell_type": "markdown",
   "metadata": {},
   "source": [
    "### Overview: Why Object-Oriented Programming?\n",
    "Object-oriented programming has a few benefits over procedural programming, which is the programming style you most likely first learned. As you'll see in this lesson,\n",
    "* OOP allows you to create large, modular programs that can easily expand over time\n",
    "* OOPs hide the implementation from the end-user\n",
    "\n",
    "Consider Python packages like [Scikit-learn](https://github.com/scikit-learn/scikit-learn), [pandas](https://pandas.pydata.org/), and [NumPy](http://www.numpy.org/). These are all Python packages built with object-oriented programming. Scikit-learn, for example, is a relatively large and complex package built with object-oriented programming. This package has expanded over the years with new functionality and new algorithms.\n",
    "\n",
    "When you train a machine learning algorithm with Scikit-learn, you don't have to know anything about how the algorithms work or how they were coded. You can focus directly on the modeling.\n",
    "\n",
    "Here's an example taken from the [Scikit-learn website](http://scikit-learn.org/stable/modules/svm.html):\n",
    "```python\n",
    "from sklearn import svm\n",
    "X = [[0, 0], [1, 1]]\n",
    "y = [0, 1]\n",
    "clf = svm.SVC()\n",
    "clf.fit(X, y)\n",
    "```\n",
    "\n",
    "How does Scikit-learn train the SVM model? You don't need to know because the implementation is hidden with object-oriented programming. If the implementation changes, you as a user of Scikit-learn might not ever find out. Whether or not you SHOULD understand how SVM works is a different question.\n",
    "\n",
    "In this lesson, you'll practice the fundamentals of object-oriented programming. By the end of the lesson, you'll have built a Python package using object-oriented programming.\n",
    "\n",
    "This lesson uses classroom workspaces that contain all of the files and functionality you will need. You can also find the files in the [data scientist nanodegree term 2 GitHub repo](https://github.com/udacity/DSND_Term2/tree/master/lessons/ObjectOrientedProgramming) or [my repo here](https://github.com/ChristopherDaigle/udacity_nano_ds/tree/master/udacity_dsnd_two/lessons/ObjectOrientedProgramming)."
   ]
  },
  {
   "cell_type": "markdown",
   "metadata": {},
   "source": [
    "## Syntax: Procedural vs Object-Oriented Programming\n",
    "* Procedural programming is a form of programming that executes stages of a program in a linear fashion\n",
    "* Object-Oriented Programming executes based on the attributes of objects\n",
    "\n",
    "**Objects are defined by characteristics and actions:**\n",
    "Example:<br>\n",
    "* Sales Person as Object:\n",
    "\n",
    "**Characteristics (Attributes)**\n",
    "> * Name\n",
    "> * Address\n",
    "> * Phone Number\n",
    "> * Hourly Pay<br>\n",
    "\n",
    "**Actions (Method)**\n",
    "> * Sell item\n",
    "> * Take item\n",
    "\n",
    "* Shirt as Object:\n",
    "\n",
    "**Attributes**\n",
    "> * Color\n",
    "> * Size\n",
    "> * Style\n",
    "> * Price\n",
    "\n",
    "**Method**\n",
    "> * Change Price\n",
    "\n",
    "**Characteristics and Actions in English Grammar**\n",
    "Another way to think about characteristics and actions is in terms of English grammar\n",
    "> * **characteristic** would be a noun\n",
    "> * **action** would be a verb.\n",
    "\n",
    "Let's pick something from the real-world: a dog. A few characteristics could be the dog's weight, color, breed, and height. These are all nouns. What actions would a dog take? A dog can bark, run, bite and eat. These are all verbs."
   ]
  },
  {
   "cell_type": "markdown",
   "metadata": {},
   "source": [
    "## Syntax: Vocabulary\n",
    "* class - a blueprint consisting of methods and attributes\n",
    "* object - an instance of a class. It can help to think of objects as something in the real world like a yellow * * pencil, a small dog, a blue shirt, etc. However, as you'll see later in the lesson, objects can be more abstract.\n",
    "* attribute - a descriptor or characteristic. Examples would be color, length, size, etc. These attributes can take on specific values like blue, 3 inches, large, etc.\n",
    "* method - an action that a class or object could take\n",
    "* OOP - a commonly used abbreviation for object-oriented programming\n",
    "* encapsulation - one of the fundamental ideas behind object-oriented programming is called encapsulation: you can combine functions and data all into a single entity. In object-oriented programming, this single entity is called a class. Encapsulation allows you to hide implementation details much like how the scikit-learn package hides the implementation of machine learning algorithms.\n",
    "\n",
    "In English, you might hear an attribute described as a property, description, feature, quality, trait, or characteristic. All of these are saying the same thing.\n",
    "\n",
    "Here is a reminder of how a class, object, attributes and methods relate to each other."
   ]
  },
  {
   "cell_type": "code",
   "execution_count": null,
   "metadata": {},
   "outputs": [],
   "source": []
  }
 ],
 "metadata": {
  "kernelspec": {
   "display_name": "Python 3",
   "language": "python",
   "name": "python3"
  },
  "language_info": {
   "codemirror_mode": {
    "name": "ipython",
    "version": 3
   },
   "file_extension": ".py",
   "mimetype": "text/x-python",
   "name": "python",
   "nbconvert_exporter": "python",
   "pygments_lexer": "ipython3",
   "version": "3.7.6"
  }
 },
 "nbformat": 4,
 "nbformat_minor": 4
}
