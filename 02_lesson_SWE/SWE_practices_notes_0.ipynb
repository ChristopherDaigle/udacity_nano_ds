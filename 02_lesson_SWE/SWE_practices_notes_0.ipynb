{
 "cells": [
  {
   "cell_type": "markdown",
   "metadata": {},
   "source": [
    "# Software Engineering Practices\n",
    "1. Clean and Modular\n",
    "2. Refactoring\n",
    "3. Efficient\n",
    "4. Documentation"
   ]
  },
  {
   "cell_type": "markdown",
   "metadata": {},
   "source": [
    "## General Notes:\n",
    "\n",
    "**PRODUCTION CODE:** software running on production servers to handle live users and data of the intended audience<br>\n",
    "> Note this is different from production quality code, which describes code that meets expectations in reliability, efficiency, etc., for production. Ideally, all code in production meets these expectations, but this is not always the case.<br>\n",
    "\n",
    "**CLEAN:** readable, simple, and concise<br>\n",
    "> A characteristic of production quality code that is crucial for collaboration and maintainability in software development.<br>\n",
    "\n",
    "**MODULAR:** logically broken up into functions and modules\n",
    "> Also an important characteristic of production quality code that makes your code more organized, efficient, and reusable.<br>\n",
    "\n",
    "**MODULE:** a file\n",
    "> Modules allow code to be reused by encapsulating them into files that can be imported into other files.<br>"
   ]
  },
  {
   "cell_type": "markdown",
   "metadata": {},
   "source": [
    "## Writing Clean Code\n",
    "1. **Use Meaningful Names**<br>\n",
    "\n",
    ">* *Be descriptive and imply type*:\n",
    ">> E.g. for booleans, you can prefix with `is_` (e.g. `is_larger` not `larger`) or `has_` to make it clear it is a condition. You can also use part of speech to imply types, like verbs for functions and nouns for variables.\n",
    ">* *Be consistent but clearly differentiate*\n",
    ">> E.g. `age_list` and `age` is easier to differentiate than `ages` and `age`\n",
    ">* *Avoid abbreviations and especially single letters* - (Exception: counters and common math variables)\n",
    ">> - Choosing when these exceptions can be made can be determined based on the audience for your code<br>\n",
    ">> - If you work with other data scientists, certain variables may be common knowledge<br>\n",
    ">> - While if you work with full stack engineers, it might be necessary to provide more descriptive names in these cases as well.<br>\n",
    ">* *Long names != descriptive names*\n",
    ">> You should be descriptive, but only with relevant information. E.g. good functions names describe what they do well without including details about implementation or highly specific uses.\n",
    "\n",
    "2. **Use whitespace properly**\n",
    ">* *Organize your code with consistent indentation*<br>\n",
    ">> Standard is to use 4 spaces for each indent. You can make this a default in your text editor<br>\n",
    ">* *Separate sections with blank lines*<br>\n",
    ">* Try to limit your lines to around *79 characters* which is the guideline given in the PEP 8 style guide.<br>\n",
    ">> In many good text editors, there is a setting to display a subtle line that indicates where the 79 character limit is.\n",
    "\n",
    "[PEP 8 guidelines for code layout](https://www.python.org/dev/peps/pep-0008/?#code-lay-out)"
   ]
  },
  {
   "cell_type": "markdown",
   "metadata": {},
   "source": [
    "## Writing Modular Code\n",
    "1. **DRY (Don't Repeat Yourself)**\n",
    "> Don't repeat yourself! Modularization allows you to reuse parts of your code. Generalize and consolidate repeated code in functions or loops.<br>\n",
    "2. **Abstract out logic to improve readability**\n",
    ">Abstracting out code into a function not only makes it less repetitive, but also improves readability with descriptive function names. Although your code can become more readable when you abstract out logic into functions, it is possible to over-engineer this and have way too many modules, so use your judgement.<br>\n",
    "3. **Minimize the number of entities (functions, classes, modules, etc.)**\n",
    ">There are tradeoffs to having function calls instead of inline logic. If you have broken up your code into an unnecessary amount of functions and modules, you'll have to jump around everywhere if you want to view the implementation details for something that may be too small to be worth it. Creating more modules doesn't necessarily result in effective modularization.<br>\n",
    "4. **Functions should do one thing**\n",
    "> Each function you write should be focused on doing one thing. If a function is doing multiple things, it becomes more difficult to generalize and reuse. Generally, if there's an \"and\" in your function name, consider refactoring.\n",
    "5. **Arbitrary variable names can be more effective in certain functions**\n",
    ">Arbitrary variable names in general functions can actually make the code more readable.<br>\n",
    "6. **Try to use fewer than three arguments per function**\n",
    "> Try to use no more than three arguments when possible. This is not a hard rule and there are times it is more appropriate to use many parameters. But in many cases, it's more effective to use fewer arguments. Remember we are modularizing to simplify our code and make it more efficient to work with. If your function has a lot of parameters, you may want to rethink how you are splitting this up."
   ]
  },
  {
   "cell_type": "markdown",
   "metadata": {},
   "source": [
    "## Efficient Code\n",
    "Knowing how to write code that runs efficiently is another essential skill in software development.<br>\n",
    "Optimizing code to be more efficient can mean making it:\n",
    "- Execute faster\n",
    "- Take up less space in memory/storage<br>\n",
    "\n",
    "The project you're working on would determine which of these is more important to optimize for your company or product. When we are performing lots of different transformations on large amounts of data, this can make orders of magnitudes of difference in performance."
   ]
  },
  {
   "cell_type": "markdown",
   "metadata": {},
   "source": [
    "## Documentation\n",
    "**Documentation**: additional text or illustrated information that comes with or is embedded in the code of software.<br>\n",
    "\n",
    "> * Helpful for clarifying complex parts of code, making your code easier to navigate, and quickly conveying how and why different components of your program are used.<br>\n",
    "> * Several types of documentation can be added at different levels of your program:\n",
    ">> - In-line Comments - line level<br>\n",
    ">> - Docstrings - module and function level<br>\n",
    ">> - Project Documentation - project level<br>"
   ]
  },
  {
   "cell_type": "markdown",
   "metadata": {},
   "source": [
    "## Documentation: In-Line Comments\n",
    "* In-line comments are text following hash symbols throughout your code. They are used to explain parts of your code, and really help future contributors understand your work.<br>\n",
    "* One way comments are used is to document the major steps of complex code to help readers follow. Then, you may not have to understand the code to follow what it does. However, others would argue that this is using comments to justify bad code, and that if code requires comments to follow, it is a sign refactoring is needed.<br>\n",
    "* Comments are valuable for explaining where code cannot. For example, the history behind why a certain method was implemented a specific way. Sometimes an unconventional or seemingly arbitrary approach may be applied because of some obscure external variable causing side effects. These things are difficult to explain with code."
   ]
  },
  {
   "cell_type": "markdown",
   "metadata": {},
   "source": [
    "## Documentation: Docstrings\n",
    "Docstring, or documentation strings, are valuable pieces of documentation that explain the functionality of any function or module in your code. Ideally, each of your functions should always have a docstring.\n",
    "\n",
    "Docstrings are surrounded by triple quotes. The first line of the docstring is a brief explanation of the function's purpose.\n",
    "\n",
    "#### One line docstring\n",
    "```python\n",
    "def population_density(population, land_area):\n",
    "    \"\"\"Calculate the population density of an area.\"\"\"\n",
    "    return population / land_area\n",
    "```\n",
    "\n",
    "If you think that the function is complicated enough to warrant a longer description, you can add a more thorough paragraph after the one line summary.\n",
    "#### Multi-line docstring\n",
    "```python\n",
    "def population_density(population, land_area):\n",
    "    \"\"\"Calculate the population density of an area.\n",
    "\n",
    "    Args:\n",
    "    population: int. The population of the area\n",
    "    land_area: int or float. This function is unit-agnostic, if you pass in values in terms of square km or square miles the function will return a density in those units.\n",
    "\n",
    "    Returns:\n",
    "    population_density: population/land_area. The population density of a \n",
    "    particular area.\n",
    "    \"\"\"\n",
    "    return population / land_area\n",
    "```\n",
    "\n",
    "The next element of a docstring is an explanation of the function's arguments. Here you list the arguments, state their purpose, and state what types the arguments should be. Finally it is common to provide some description of the output of the function.<br>\n",
    "> * Every piece of the docstring is optional\n",
    "> * **however, doc strings are a part of good coding practice**\n",
    "\n",
    "#### Resources\n",
    "[PEP-257: Docstring Conventions](https://www.python.org/dev/peps/pep-0257/)<br>\n",
    "[NumPy Docstring Guide](https://numpydoc.readthedocs.io/en/latest/format.html)"
   ]
  },
  {
   "cell_type": "markdown",
   "metadata": {},
   "source": [
    "## Documentation: Project Documentation\n",
    "Project documentation is essential for getting others to understand why and how your code is relevant to them, whether they are potentials users of your project or developers who may contribute to your code. A great first step in project documentation is your README file. It will often be the first interaction most users will have with your project.\n",
    "\n",
    "Whether it's an application or a package, your project should absolutely come with a README file. At a minimum, this should explain what it does, list its dependencies, and provide sufficiently detailed instructions on how to use it. You want to make it as simple as possible for others to understand the purpose of your project, and quickly get something working.\n",
    "\n",
    "Translating all your ideas and thoughts formally on paper can be a little difficult, but you'll get better over time and makes a significant difference in helping others realize the value of your project. Writing this documentation can also help you improve the design of your code, as you're forced to think through your design decisions more thoroughly. This also allows future contributors to know how to follow your original intentions.\n",
    "\n",
    "[Full Udacity course on writing READMEs](https://classroom.udacity.com/courses/ud777)\n",
    "\n",
    "READMEs of popular projects:\n",
    "* [Bootstrap](https://github.com/twbs/bootstrap)\n",
    "* [Scikit-learn](https://github.com/scikit-learn/scikit-learn)\n",
    "* [Stack Overflow Blog](https://github.com/jjrunner/stackoverflow)"
   ]
  },
  {
   "cell_type": "markdown",
   "metadata": {},
   "source": [
    "# Refactoring\n",
    "\n",
    "**REFACTORING:** restructuring your code to improve its internal structure, without changing its external functionality<br>\n",
    "> This gives you a chance to clean and modularize your program after you've got it working<br>\n",
    "\n",
    "Since it isn't easy to write your best code while you're still trying to just get it working, allocating time to do this is essential to producing high quality code. Despite the initial time and effort required, this really pays off by speeding up your development time in the long run.\n",
    "\n",
    "You become a much stronger programmer when you're constantly looking to improve your code. The more you refactor, the easier it will be to structure and write good code the first time.\n",
    "\n",
    "## Why Refactor\n",
    "\n",
    "1. Reduce workload in long run<br>\n",
    "2. Easier to maintain code<br>\n",
    "3. Reuse more of your code<br>\n",
    "4. Become a better developer<br>"
   ]
  },
  {
   "cell_type": "markdown",
   "metadata": {},
   "source": [
    "## ASIDE: Version Control\n",
    "* [How to Version Control Your Production Machine Learning Models](https://blog.algorithmia.com/how-to-version-control-your-production-machine-learning-models/)<br>\n",
    "* [Versioning Data Science](https://shuaiw.github.io/2017/07/30/versioning-data-science.html)"
   ]
  },
  {
   "cell_type": "code",
   "execution_count": null,
   "metadata": {},
   "outputs": [],
   "source": []
  }
 ],
 "metadata": {
  "kernelspec": {
   "display_name": "venv_nano_ds",
   "language": "python",
   "name": "venv_nano_ds"
  },
  "language_info": {
   "codemirror_mode": {
    "name": "ipython",
    "version": 3
   },
   "file_extension": ".py",
   "mimetype": "text/x-python",
   "name": "python",
   "nbconvert_exporter": "python",
   "pygments_lexer": "ipython3",
   "version": "3.7.6"
  }
 },
 "nbformat": 4,
 "nbformat_minor": 4
}
